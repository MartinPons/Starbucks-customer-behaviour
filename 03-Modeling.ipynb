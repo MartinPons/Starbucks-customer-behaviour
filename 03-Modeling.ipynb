{
 "cells": [
  {
   "cell_type": "code",
   "execution_count": 23,
   "id": "0982fa37",
   "metadata": {
    "scrolled": true
   },
   "outputs": [],
   "source": [
    "from StarbucksAnalysis.model import pretty_coefficients, expand_grid, fit_logistic, model_outcome\n",
    "import pandas as pd\n",
    "import numpy as np\n",
    "import pickle\n",
    "import patsy"
   ]
  },
  {
   "cell_type": "markdown",
   "id": "dba44053",
   "metadata": {},
   "source": [
    "# Load data"
   ]
  },
  {
   "cell_type": "code",
   "execution_count": 11,
   "id": "b402d0de",
   "metadata": {
    "scrolled": true
   },
   "outputs": [],
   "source": [
    "offers = pickle.load(open(\"processed_data/offers_cleaned.p\", \"rb\"))"
   ]
  },
  {
   "cell_type": "markdown",
   "id": "e6f07edb",
   "metadata": {},
   "source": [
    "# No interaction"
   ]
  },
  {
   "cell_type": "code",
   "execution_count": 12,
   "id": "b934c54c",
   "metadata": {
    "scrolled": true
   },
   "outputs": [
    {
     "name": "stdout",
     "output_type": "stream",
     "text": [
      "Optimization terminated successfully.\n",
      "         Current function value: 0.617162\n",
      "         Iterations 5\n"
     ]
    }
   ],
   "source": [
    "lg_no_interaction, formula, exog_train, exog_val, _,  y_val = fit_logistic(offers, [\"income_thousands\", \"gender\", \"young\", \"seniority\", \"social\"])"
   ]
  },
  {
   "cell_type": "code",
   "execution_count": 13,
   "id": "b2aaeee1",
   "metadata": {},
   "outputs": [
    {
     "name": "stdout",
     "output_type": "stream",
     "text": [
      "Accuracy:  0.6658897827231035\n",
      "\n",
      "Confusion matrix\n",
      "[[5984 1560]\n",
      " [2884 2873]]\n",
      "\n",
      "Scoring\n",
      "              precision    recall  f1-score   support\n",
      "\n",
      "           0       0.67      0.79      0.73      7544\n",
      "           1       0.65      0.50      0.56      5757\n",
      "\n",
      "    accuracy                           0.67     13301\n",
      "   macro avg       0.66      0.65      0.65     13301\n",
      "weighted avg       0.66      0.67      0.66     13301\n",
      "\n"
     ]
    }
   ],
   "source": [
    "model_outcome(lg_no_interaction, exog_val, y_val)"
   ]
  },
  {
   "cell_type": "code",
   "execution_count": 14,
   "id": "35fa0456",
   "metadata": {
    "scrolled": false
   },
   "outputs": [
    {
     "data": {
      "text/html": [
       "<table class=\"simpletable\">\n",
       "<caption>Logit Regression Results</caption>\n",
       "<tr>\n",
       "  <th>Dep. Variable:</th>       <td>completed</td>    <th>  No. Observations:  </th>  <td> 53200</td> \n",
       "</tr>\n",
       "<tr>\n",
       "  <th>Model:</th>                 <td>Logit</td>      <th>  Df Residuals:      </th>  <td> 53190</td> \n",
       "</tr>\n",
       "<tr>\n",
       "  <th>Method:</th>                 <td>MLE</td>       <th>  Df Model:          </th>  <td>     9</td> \n",
       "</tr>\n",
       "<tr>\n",
       "  <th>Date:</th>            <td>Sat, 25 Mar 2023</td> <th>  Pseudo R-squ.:     </th>  <td>0.09736</td>\n",
       "</tr>\n",
       "<tr>\n",
       "  <th>Time:</th>                <td>12:27:20</td>     <th>  Log-Likelihood:    </th> <td> -32833.</td>\n",
       "</tr>\n",
       "<tr>\n",
       "  <th>converged:</th>             <td>True</td>       <th>  LL-Null:           </th> <td> -36375.</td>\n",
       "</tr>\n",
       "<tr>\n",
       "  <th>Covariance Type:</th>     <td>nonrobust</td>    <th>  LLR p-value:       </th>  <td> 0.000</td> \n",
       "</tr>\n",
       "</table>"
      ],
      "text/plain": [
       "<class 'statsmodels.iolib.table.SimpleTable'>"
      ]
     },
     "execution_count": 14,
     "metadata": {},
     "output_type": "execute_result"
    }
   ],
   "source": [
    "lg_no_interaction.summary().tables[0]"
   ]
  },
  {
   "cell_type": "code",
   "execution_count": 15,
   "id": "5c04520d",
   "metadata": {},
   "outputs": [
    {
     "data": {
      "text/html": [
       "<div>\n",
       "<style scoped>\n",
       "    .dataframe tbody tr th:only-of-type {\n",
       "        vertical-align: middle;\n",
       "    }\n",
       "\n",
       "    .dataframe tbody tr th {\n",
       "        vertical-align: top;\n",
       "    }\n",
       "\n",
       "    .dataframe thead th {\n",
       "        text-align: right;\n",
       "    }\n",
       "</style>\n",
       "<table border=\"1\" class=\"dataframe\">\n",
       "  <thead>\n",
       "    <tr style=\"text-align: right;\">\n",
       "      <th></th>\n",
       "      <th>Variable</th>\n",
       "      <th>coef</th>\n",
       "      <th>odds ratio</th>\n",
       "      <th>z</th>\n",
       "      <th>P&gt;|z|</th>\n",
       "    </tr>\n",
       "  </thead>\n",
       "  <tbody>\n",
       "    <tr>\n",
       "      <th>0</th>\n",
       "      <td>Intercept</td>\n",
       "      <td>-0.770</td>\n",
       "      <td>0.463</td>\n",
       "      <td>-15.169</td>\n",
       "      <td>0.000</td>\n",
       "    </tr>\n",
       "    <tr>\n",
       "      <th>1</th>\n",
       "      <td>[T.Bogo]</td>\n",
       "      <td>-0.546</td>\n",
       "      <td>0.579</td>\n",
       "      <td>-20.757</td>\n",
       "      <td>0.000</td>\n",
       "    </tr>\n",
       "    <tr>\n",
       "      <th>2</th>\n",
       "      <td>[T.Discount]</td>\n",
       "      <td>-0.053</td>\n",
       "      <td>0.948</td>\n",
       "      <td>-2.060</td>\n",
       "      <td>0.039</td>\n",
       "    </tr>\n",
       "    <tr>\n",
       "      <th>3</th>\n",
       "      <td>gender[T.Male]</td>\n",
       "      <td>-0.198</td>\n",
       "      <td>0.820</td>\n",
       "      <td>-10.048</td>\n",
       "      <td>0.000</td>\n",
       "    </tr>\n",
       "    <tr>\n",
       "      <th>4</th>\n",
       "      <td>gender[T.Other]</td>\n",
       "      <td>0.377</td>\n",
       "      <td>1.458</td>\n",
       "      <td>4.623</td>\n",
       "      <td>0.000</td>\n",
       "    </tr>\n",
       "    <tr>\n",
       "      <th>5</th>\n",
       "      <td>young[T.True]</td>\n",
       "      <td>-0.264</td>\n",
       "      <td>0.768</td>\n",
       "      <td>-9.521</td>\n",
       "      <td>0.000</td>\n",
       "    </tr>\n",
       "    <tr>\n",
       "      <th>6</th>\n",
       "      <td>seniority[T.Gen2]</td>\n",
       "      <td>0.358</td>\n",
       "      <td>1.431</td>\n",
       "      <td>10.531</td>\n",
       "      <td>0.000</td>\n",
       "    </tr>\n",
       "    <tr>\n",
       "      <th>7</th>\n",
       "      <td>seniority[T.Gen3]</td>\n",
       "      <td>-0.640</td>\n",
       "      <td>0.527</td>\n",
       "      <td>-19.178</td>\n",
       "      <td>0.000</td>\n",
       "    </tr>\n",
       "    <tr>\n",
       "      <th>8</th>\n",
       "      <td>social[T.True]</td>\n",
       "      <td>1.222</td>\n",
       "      <td>3.393</td>\n",
       "      <td>59.477</td>\n",
       "      <td>0.000</td>\n",
       "    </tr>\n",
       "    <tr>\n",
       "      <th>9</th>\n",
       "      <td>income_thousands</td>\n",
       "      <td>0.004</td>\n",
       "      <td>1.004</td>\n",
       "      <td>9.464</td>\n",
       "      <td>0.000</td>\n",
       "    </tr>\n",
       "  </tbody>\n",
       "</table>\n",
       "</div>"
      ],
      "text/plain": [
       "            Variable   coef  odds ratio          z   P>|z|\n",
       "0          Intercept -0.770       0.463    -15.169   0.000\n",
       "1           [T.Bogo] -0.546       0.579    -20.757   0.000\n",
       "2       [T.Discount] -0.053       0.948     -2.060   0.039\n",
       "3     gender[T.Male] -0.198       0.820    -10.048   0.000\n",
       "4    gender[T.Other]  0.377       1.458      4.623   0.000\n",
       "5      young[T.True] -0.264       0.768     -9.521   0.000\n",
       "6  seniority[T.Gen2]  0.358       1.431     10.531   0.000\n",
       "7  seniority[T.Gen3] -0.640       0.527    -19.178   0.000\n",
       "8     social[T.True]  1.222       3.393     59.477   0.000\n",
       "9   income_thousands  0.004       1.004      9.464   0.000"
      ]
     },
     "execution_count": 15,
     "metadata": {},
     "output_type": "execute_result"
    }
   ],
   "source": [
    "pretty_coefficients(lg_no_interaction.summary(), exog_train)"
   ]
  },
  {
   "cell_type": "markdown",
   "id": "85a3063c",
   "metadata": {},
   "source": [
    "# Interaction"
   ]
  },
  {
   "cell_type": "code",
   "execution_count": 16,
   "id": "861e7187",
   "metadata": {
    "scrolled": false
   },
   "outputs": [
    {
     "name": "stdout",
     "output_type": "stream",
     "text": [
      "Optimization terminated successfully.\n",
      "         Current function value: 0.603956\n",
      "         Iterations 5\n"
     ]
    }
   ],
   "source": [
    "\n",
    "lg_interaction, formula, exog_train, exog_val, _, y_val = fit_logistic(offers, [\"income_thousands\", \"gender\", \"young\", \"seniority\", \"social\"], interaction = True)"
   ]
  },
  {
   "cell_type": "code",
   "execution_count": 17,
   "id": "feb58467",
   "metadata": {},
   "outputs": [
    {
     "data": {
      "text/html": [
       "<div>\n",
       "<style scoped>\n",
       "    .dataframe tbody tr th:only-of-type {\n",
       "        vertical-align: middle;\n",
       "    }\n",
       "\n",
       "    .dataframe tbody tr th {\n",
       "        vertical-align: top;\n",
       "    }\n",
       "\n",
       "    .dataframe thead th {\n",
       "        text-align: right;\n",
       "    }\n",
       "</style>\n",
       "<table border=\"1\" class=\"dataframe\">\n",
       "  <thead>\n",
       "    <tr style=\"text-align: right;\">\n",
       "      <th></th>\n",
       "      <th>Variable</th>\n",
       "      <th>coef</th>\n",
       "      <th>odds ratio</th>\n",
       "      <th>z</th>\n",
       "      <th>P&gt;|z|</th>\n",
       "    </tr>\n",
       "  </thead>\n",
       "  <tbody>\n",
       "    <tr>\n",
       "      <th>0</th>\n",
       "      <td>Intercept</td>\n",
       "      <td>0.453</td>\n",
       "      <td>1.573</td>\n",
       "      <td>4.366</td>\n",
       "      <td>0.000</td>\n",
       "    </tr>\n",
       "    <tr>\n",
       "      <th>1</th>\n",
       "      <td>[T.Bogo]</td>\n",
       "      <td>-1.990</td>\n",
       "      <td>0.137</td>\n",
       "      <td>-15.318</td>\n",
       "      <td>0.000</td>\n",
       "    </tr>\n",
       "    <tr>\n",
       "      <th>2</th>\n",
       "      <td>[T.Discount]</td>\n",
       "      <td>-1.445</td>\n",
       "      <td>0.236</td>\n",
       "      <td>-11.078</td>\n",
       "      <td>0.000</td>\n",
       "    </tr>\n",
       "    <tr>\n",
       "      <th>3</th>\n",
       "      <td>gender[T.Male]:[Bogo]</td>\n",
       "      <td>-0.339</td>\n",
       "      <td>0.712</td>\n",
       "      <td>-11.016</td>\n",
       "      <td>0.000</td>\n",
       "    </tr>\n",
       "    <tr>\n",
       "      <th>4</th>\n",
       "      <td>gender[T.Other]:[Bogo]</td>\n",
       "      <td>0.472</td>\n",
       "      <td>1.603</td>\n",
       "      <td>3.660</td>\n",
       "      <td>0.000</td>\n",
       "    </tr>\n",
       "    <tr>\n",
       "      <th>5</th>\n",
       "      <td>gender[T.Male]:[Discount]</td>\n",
       "      <td>-0.163</td>\n",
       "      <td>0.849</td>\n",
       "      <td>-4.973</td>\n",
       "      <td>0.000</td>\n",
       "    </tr>\n",
       "    <tr>\n",
       "      <th>6</th>\n",
       "      <td>gender[T.Other]:[Discount]</td>\n",
       "      <td>0.403</td>\n",
       "      <td>1.496</td>\n",
       "      <td>2.929</td>\n",
       "      <td>0.003</td>\n",
       "    </tr>\n",
       "    <tr>\n",
       "      <th>7</th>\n",
       "      <td>gender[T.Male]:[Informational]</td>\n",
       "      <td>-0.012</td>\n",
       "      <td>0.988</td>\n",
       "      <td>-0.270</td>\n",
       "      <td>0.787</td>\n",
       "    </tr>\n",
       "    <tr>\n",
       "      <th>8</th>\n",
       "      <td>gender[T.Other]:[Informational]</td>\n",
       "      <td>0.178</td>\n",
       "      <td>1.194</td>\n",
       "      <td>1.038</td>\n",
       "      <td>0.299</td>\n",
       "    </tr>\n",
       "    <tr>\n",
       "      <th>9</th>\n",
       "      <td>young[T.True]:[Bogo]</td>\n",
       "      <td>-0.326</td>\n",
       "      <td>0.722</td>\n",
       "      <td>-7.233</td>\n",
       "      <td>0.000</td>\n",
       "    </tr>\n",
       "    <tr>\n",
       "      <th>10</th>\n",
       "      <td>young[T.True]:[Discount]</td>\n",
       "      <td>-0.362</td>\n",
       "      <td>0.697</td>\n",
       "      <td>-7.882</td>\n",
       "      <td>0.000</td>\n",
       "    </tr>\n",
       "    <tr>\n",
       "      <th>11</th>\n",
       "      <td>young[T.True]:[Informational]</td>\n",
       "      <td>-0.009</td>\n",
       "      <td>0.991</td>\n",
       "      <td>-0.150</td>\n",
       "      <td>0.881</td>\n",
       "    </tr>\n",
       "    <tr>\n",
       "      <th>12</th>\n",
       "      <td>seniority[T.Gen2]:[Bogo]</td>\n",
       "      <td>0.744</td>\n",
       "      <td>2.105</td>\n",
       "      <td>13.724</td>\n",
       "      <td>0.000</td>\n",
       "    </tr>\n",
       "    <tr>\n",
       "      <th>13</th>\n",
       "      <td>seniority[T.Gen3]:[Bogo]</td>\n",
       "      <td>-0.288</td>\n",
       "      <td>0.750</td>\n",
       "      <td>-5.358</td>\n",
       "      <td>0.000</td>\n",
       "    </tr>\n",
       "    <tr>\n",
       "      <th>14</th>\n",
       "      <td>seniority[T.Gen2]:[Discount]</td>\n",
       "      <td>0.123</td>\n",
       "      <td>1.131</td>\n",
       "      <td>2.137</td>\n",
       "      <td>0.033</td>\n",
       "    </tr>\n",
       "    <tr>\n",
       "      <th>15</th>\n",
       "      <td>seniority[T.Gen3]:[Discount]</td>\n",
       "      <td>-1.013</td>\n",
       "      <td>0.363</td>\n",
       "      <td>-17.923</td>\n",
       "      <td>0.000</td>\n",
       "    </tr>\n",
       "    <tr>\n",
       "      <th>16</th>\n",
       "      <td>seniority[T.Gen2]:[Informational]</td>\n",
       "      <td>0.028</td>\n",
       "      <td>1.028</td>\n",
       "      <td>0.366</td>\n",
       "      <td>0.714</td>\n",
       "    </tr>\n",
       "    <tr>\n",
       "      <th>17</th>\n",
       "      <td>seniority[T.Gen3]:[Informational]</td>\n",
       "      <td>-0.791</td>\n",
       "      <td>0.453</td>\n",
       "      <td>-10.748</td>\n",
       "      <td>0.000</td>\n",
       "    </tr>\n",
       "    <tr>\n",
       "      <th>18</th>\n",
       "      <td>social[T.True]:[Bogo]</td>\n",
       "      <td>0.640</td>\n",
       "      <td>1.897</td>\n",
       "      <td>18.128</td>\n",
       "      <td>0.000</td>\n",
       "    </tr>\n",
       "    <tr>\n",
       "      <th>19</th>\n",
       "      <td>social[T.True]:[Discount]</td>\n",
       "      <td>1.816</td>\n",
       "      <td>6.149</td>\n",
       "      <td>56.243</td>\n",
       "      <td>0.000</td>\n",
       "    </tr>\n",
       "    <tr>\n",
       "      <th>20</th>\n",
       "      <td>social[T.True]:[Informational]</td>\n",
       "      <td>0.966</td>\n",
       "      <td>2.628</td>\n",
       "      <td>23.512</td>\n",
       "      <td>0.000</td>\n",
       "    </tr>\n",
       "    <tr>\n",
       "      <th>21</th>\n",
       "      <td>income_thousands:[Bogo]</td>\n",
       "      <td>0.011</td>\n",
       "      <td>1.011</td>\n",
       "      <td>14.960</td>\n",
       "      <td>0.000</td>\n",
       "    </tr>\n",
       "    <tr>\n",
       "      <th>22</th>\n",
       "      <td>income_thousands:[Discount]</td>\n",
       "      <td>0.006</td>\n",
       "      <td>1.006</td>\n",
       "      <td>8.125</td>\n",
       "      <td>0.000</td>\n",
       "    </tr>\n",
       "    <tr>\n",
       "      <th>23</th>\n",
       "      <td>income_thousands:[Informational]</td>\n",
       "      <td>-0.011</td>\n",
       "      <td>0.989</td>\n",
       "      <td>-10.862</td>\n",
       "      <td>0.000</td>\n",
       "    </tr>\n",
       "  </tbody>\n",
       "</table>\n",
       "</div>"
      ],
      "text/plain": [
       "                             Variable   coef  odds ratio          z   P>|z|\n",
       "0                           Intercept  0.453       1.573      4.366   0.000\n",
       "1                            [T.Bogo] -1.990       0.137    -15.318   0.000\n",
       "2                        [T.Discount] -1.445       0.236    -11.078   0.000\n",
       "3               gender[T.Male]:[Bogo] -0.339       0.712    -11.016   0.000\n",
       "4              gender[T.Other]:[Bogo]  0.472       1.603      3.660   0.000\n",
       "5           gender[T.Male]:[Discount] -0.163       0.849     -4.973   0.000\n",
       "6          gender[T.Other]:[Discount]  0.403       1.496      2.929   0.003\n",
       "7      gender[T.Male]:[Informational] -0.012       0.988     -0.270   0.787\n",
       "8     gender[T.Other]:[Informational]  0.178       1.194      1.038   0.299\n",
       "9                young[T.True]:[Bogo] -0.326       0.722     -7.233   0.000\n",
       "10           young[T.True]:[Discount] -0.362       0.697     -7.882   0.000\n",
       "11      young[T.True]:[Informational] -0.009       0.991     -0.150   0.881\n",
       "12           seniority[T.Gen2]:[Bogo]  0.744       2.105     13.724   0.000\n",
       "13           seniority[T.Gen3]:[Bogo] -0.288       0.750     -5.358   0.000\n",
       "14       seniority[T.Gen2]:[Discount]  0.123       1.131      2.137   0.033\n",
       "15       seniority[T.Gen3]:[Discount] -1.013       0.363    -17.923   0.000\n",
       "16  seniority[T.Gen2]:[Informational]  0.028       1.028      0.366   0.714\n",
       "17  seniority[T.Gen3]:[Informational] -0.791       0.453    -10.748   0.000\n",
       "18              social[T.True]:[Bogo]  0.640       1.897     18.128   0.000\n",
       "19          social[T.True]:[Discount]  1.816       6.149     56.243   0.000\n",
       "20     social[T.True]:[Informational]  0.966       2.628     23.512   0.000\n",
       "21            income_thousands:[Bogo]  0.011       1.011     14.960   0.000\n",
       "22        income_thousands:[Discount]  0.006       1.006      8.125   0.000\n",
       "23   income_thousands:[Informational] -0.011       0.989    -10.862   0.000"
      ]
     },
     "execution_count": 17,
     "metadata": {},
     "output_type": "execute_result"
    }
   ],
   "source": [
    "pretty_coefficients(lg_interaction.summary(), exog_train)"
   ]
  },
  {
   "cell_type": "code",
   "execution_count": 9,
   "id": "b5ffc934",
   "metadata": {
    "scrolled": true
   },
   "outputs": [
    {
     "name": "stdout",
     "output_type": "stream",
     "text": [
      "Accuracy:  0.674009472971957\n",
      "\n",
      "Confusion matrix\n",
      "[[5878 1666]\n",
      " [2670 3087]]\n",
      "\n",
      "Scoring\n",
      "              precision    recall  f1-score   support\n",
      "\n",
      "           0       0.69      0.78      0.73      7544\n",
      "           1       0.65      0.54      0.59      5757\n",
      "\n",
      "    accuracy                           0.67     13301\n",
      "   macro avg       0.67      0.66      0.66     13301\n",
      "weighted avg       0.67      0.67      0.67     13301\n",
      "\n"
     ]
    }
   ],
   "source": [
    "model_outcome(lg_interaction, exog_val, y_val)"
   ]
  },
  {
   "cell_type": "markdown",
   "id": "b9762e89",
   "metadata": {},
   "source": [
    "There is an issue with patsy: it can not be save, in some circunstances, using the pickle module. The fitted model must be use for some visualizations in the notebook number for. The model will just be fitted again using the same code"
   ]
  },
  {
   "cell_type": "code",
   "execution_count": 24,
   "id": "e5463c75",
   "metadata": {},
   "outputs": [],
   "source": [
    "from sklearn.model_selection import train_test_split\n",
    "from sklearn.metrics import  classification_report, confusion_matrix\n",
    "import statsmodels.api as sm\n",
    "import patsy\n",
    "import itertools\n",
    "import pandas as pd\n",
    "import numpy as np\n"
   ]
  },
  {
   "cell_type": "code",
   "execution_count": 26,
   "id": "d3644e75",
   "metadata": {},
   "outputs": [
    {
     "name": "stdout",
     "output_type": "stream",
     "text": [
      "Optimization terminated successfully.\n",
      "         Current function value: 0.603956\n",
      "         Iterations 5\n"
     ]
    }
   ],
   "source": [
    "\n",
    "    # sets Informational as base category for offer_type\n",
    "    base_category = 'Informational'\n",
    "    offer_base = \"C(offer_type, Treatment('{0}'))\".format(base_category)\n",
    "\n",
    "    # construtio of the formula for the model\n",
    "    join_string =\":{0} + \"\n",
    "    formula = join_string.join([\"income_thousands\", \"gender\", \"young\", \"seniority\", \"social\"])\n",
    "\n",
    "    formula += \":{0}\"\n",
    "\n",
    "    formula = formula.format(offer_base)\n",
    "\n",
    "    # inclusion of dependent and offer_type to create train and tests sets\n",
    "    model_data = offers[[\"completed\"] + [\"offer_type\"] + [\"income_thousands\", \"gender\", \"young\", \"seniority\", \"social\"]]\n",
    "\n",
    "    train, val = train_test_split(model_data, test_size=0.2, random_state=123)\n",
    "\n",
    "    # obtaining data for the model from formulas\n",
    "    y_train = train[\"completed\"]\n",
    "    X_train = train.drop(\"completed\", axis=1)\n",
    "\n",
    "    y_val = val[\"completed\"]\n",
    "    X_val = val.drop(\"completed\", axis=1)\n",
    "\n",
    "    exog_train = patsy.dmatrix(formula, data=X_train)\n",
    "    exog_val = patsy.dmatrix(formula, data=X_val)\n",
    "\n",
    "    # fit model\n",
    "    lg = sm.Logit(endog=y_train, exog=exog_train)\n",
    "    result = lg.fit()\n"
   ]
  },
  {
   "cell_type": "code",
   "execution_count": 27,
   "id": "8e00987a",
   "metadata": {},
   "outputs": [
    {
     "data": {
      "text/plain": [
       "\"income_thousands:C(offer_type, Treatment('Informational')) + gender:C(offer_type, Treatment('Informational')) + young:C(offer_type, Treatment('Informational')) + seniority:C(offer_type, Treatment('Informational')) + social:C(offer_type, Treatment('Informational'))\""
      ]
     },
     "execution_count": 27,
     "metadata": {},
     "output_type": "execute_result"
    }
   ],
   "source": [
    "formula"
   ]
  },
  {
   "cell_type": "code",
   "execution_count": 28,
   "id": "c5bb8c75",
   "metadata": {},
   "outputs": [
    {
     "name": "stdout",
     "output_type": "stream",
     "text": [
      "Optimization terminated successfully.\n",
      "         Current function value: 0.610088\n",
      "         Iterations 5\n"
     ]
    }
   ],
   "source": [
    "# sets Informational as base category for offer_type\n",
    "base_category = 'Informational'\n",
    "offer_base = \"C(offer_type, Treatment('{0}'))\".format(base_category)\n",
    "\n",
    "# construtio of the formula for the model\n",
    "join_string = \":C(offer_type, Treatment('{0}')) + \".format(base_category)\n",
    "formula = join_string.join([\"income_thousands\", \"gender\", \"young\", \"seniority\", \"social\"])\n",
    "\n",
    "# inclusion of dependent and offer_type to create train and tests sets\n",
    "model_data = offers[[\"completed\"] + [\"offer_type\"] + [\"income_thousands\", \"gender\", \"young\", \"seniority\", \"social\"]]\n",
    "\n",
    "train, val = train_test_split(model_data, test_size=0.2, random_state=123)\n",
    "\n",
    "# obtaining data for the model from formulas\n",
    "y_train = train[\"completed\"]\n",
    "X_train = train.drop(\"completed\", axis=1)\n",
    "\n",
    "y_val = val[\"completed\"]\n",
    "X_val = val.drop(\"completed\", axis=1)\n",
    "\n",
    "exog_train = patsy.dmatrix(formula, data=X_train)\n",
    "exog_val = patsy.dmatrix(formula, data=X_val)\n",
    "\n",
    "# fit model\n",
    "lg = sm.Logit(endog=y_train, exog=exog_train)\n",
    "result = lg.fit()"
   ]
  }
 ],
 "metadata": {
  "kernelspec": {
   "display_name": "Python 3 (ipykernel)",
   "language": "python",
   "name": "python3"
  },
  "language_info": {
   "codemirror_mode": {
    "name": "ipython",
    "version": 3
   },
   "file_extension": ".py",
   "mimetype": "text/x-python",
   "name": "python",
   "nbconvert_exporter": "python",
   "pygments_lexer": "ipython3",
   "version": "3.9.13"
  },
  "toc": {
   "base_numbering": 1,
   "nav_menu": {},
   "number_sections": true,
   "sideBar": true,
   "skip_h1_title": false,
   "title_cell": "Table of Contents",
   "title_sidebar": "Contents",
   "toc_cell": false,
   "toc_position": {
    "height": "757px",
    "left": "246px",
    "top": "111.125px",
    "width": "383.969px"
   },
   "toc_section_display": true,
   "toc_window_display": true
  },
  "varInspector": {
   "cols": {
    "lenName": 16,
    "lenType": 16,
    "lenVar": 40
   },
   "kernels_config": {
    "python": {
     "delete_cmd_postfix": "",
     "delete_cmd_prefix": "del ",
     "library": "var_list.py",
     "varRefreshCmd": "print(var_dic_list())"
    },
    "r": {
     "delete_cmd_postfix": ") ",
     "delete_cmd_prefix": "rm(",
     "library": "var_list.r",
     "varRefreshCmd": "cat(var_dic_list()) "
    }
   },
   "types_to_exclude": [
    "module",
    "function",
    "builtin_function_or_method",
    "instance",
    "_Feature"
   ],
   "window_display": false
  }
 },
 "nbformat": 4,
 "nbformat_minor": 5
}
