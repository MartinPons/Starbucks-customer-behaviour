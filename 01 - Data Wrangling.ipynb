{
 "cells": [
  {
   "cell_type": "markdown",
   "id": "9d67f11d",
   "metadata": {},
   "source": [
    "This notebook takes the data set from the Starbucks customer datasets and produces different tables ready for cleaning and modeling.\n",
    "\n",
    "- **Author**: Martín Pons\n",
    "- **Date**: 2022-03-11"
   ]
  },
  {
   "cell_type": "code",
   "execution_count": 1,
   "id": "c450deb8",
   "metadata": {},
   "outputs": [],
   "source": [
    "import numpy as np\n",
    "import pandas as pd\n",
    "import warnings\n",
    "import time\n",
    "\n",
    "from StarbucksAnalysis.Customer import Customer\n",
    "\n",
    "warnings.filterwarnings('ignore')"
   ]
  },
  {
   "cell_type": "markdown",
   "id": "12a1a478",
   "metadata": {},
   "source": [
    "# Load data"
   ]
  },
  {
   "cell_type": "markdown",
   "id": "4db9c507",
   "metadata": {},
   "source": [
    "- `portfolio` contains de different offer types and their features\n",
    "- `profile` contains customer features\n",
    "- `transcript` containts information regarding about every offer and transaction event for each customer"
   ]
  },
  {
   "cell_type": "code",
   "execution_count": 2,
   "id": "aa7aa897",
   "metadata": {
    "scrolled": false
   },
   "outputs": [],
   "source": [
    "portfolio = pd.read_json('raw_data/portfolio.json', orient='records', lines=True)\n",
    "profile = pd.read_json('raw_data/profile.json', orient='records', lines=True)\n",
    "transcript = pd.read_json('raw_data/transcript.json', orient='records', lines=True)"
   ]
  },
  {
   "cell_type": "code",
   "execution_count": 3,
   "id": "93dfa018",
   "metadata": {},
   "outputs": [
    {
     "data": {
      "text/plain": [
       "M    0.572277\n",
       "F    0.413423\n",
       "O    0.014300\n",
       "Name: gender, dtype: float64"
      ]
     },
     "execution_count": 3,
     "metadata": {},
     "output_type": "execute_result"
    }
   ],
   "source": [
    "profile.gender.value_counts(normalize = True)"
   ]
  },
  {
   "cell_type": "code",
   "execution_count": 4,
   "id": "6df86b52",
   "metadata": {
    "scrolled": true
   },
   "outputs": [
    {
     "data": {
      "text/plain": [
       "(306534, 4)"
      ]
     },
     "execution_count": 4,
     "metadata": {},
     "output_type": "execute_result"
    }
   ],
   "source": [
    "transcript.shape"
   ]
  },
  {
   "cell_type": "code",
   "execution_count": 5,
   "id": "c03da89e",
   "metadata": {},
   "outputs": [
    {
     "data": {
      "text/plain": [
       "17000"
      ]
     },
     "execution_count": 5,
     "metadata": {},
     "output_type": "execute_result"
    }
   ],
   "source": [
    "len(transcript.person.unique())"
   ]
  },
  {
   "cell_type": "code",
   "execution_count": 6,
   "id": "e1bf7b98",
   "metadata": {},
   "outputs": [
    {
     "data": {
      "text/html": [
       "<div>\n",
       "<style scoped>\n",
       "    .dataframe tbody tr th:only-of-type {\n",
       "        vertical-align: middle;\n",
       "    }\n",
       "\n",
       "    .dataframe tbody tr th {\n",
       "        vertical-align: top;\n",
       "    }\n",
       "\n",
       "    .dataframe thead th {\n",
       "        text-align: right;\n",
       "    }\n",
       "</style>\n",
       "<table border=\"1\" class=\"dataframe\">\n",
       "  <thead>\n",
       "    <tr style=\"text-align: right;\">\n",
       "      <th></th>\n",
       "      <th>reward</th>\n",
       "      <th>channels</th>\n",
       "      <th>difficulty</th>\n",
       "      <th>duration</th>\n",
       "      <th>offer_type</th>\n",
       "      <th>id</th>\n",
       "    </tr>\n",
       "  </thead>\n",
       "  <tbody>\n",
       "    <tr>\n",
       "      <th>0</th>\n",
       "      <td>10</td>\n",
       "      <td>[email, mobile, social]</td>\n",
       "      <td>10</td>\n",
       "      <td>7</td>\n",
       "      <td>bogo</td>\n",
       "      <td>ae264e3637204a6fb9bb56bc8210ddfd</td>\n",
       "    </tr>\n",
       "    <tr>\n",
       "      <th>1</th>\n",
       "      <td>10</td>\n",
       "      <td>[web, email, mobile, social]</td>\n",
       "      <td>10</td>\n",
       "      <td>5</td>\n",
       "      <td>bogo</td>\n",
       "      <td>4d5c57ea9a6940dd891ad53e9dbe8da0</td>\n",
       "    </tr>\n",
       "    <tr>\n",
       "      <th>2</th>\n",
       "      <td>0</td>\n",
       "      <td>[web, email, mobile]</td>\n",
       "      <td>0</td>\n",
       "      <td>4</td>\n",
       "      <td>informational</td>\n",
       "      <td>3f207df678b143eea3cee63160fa8bed</td>\n",
       "    </tr>\n",
       "    <tr>\n",
       "      <th>3</th>\n",
       "      <td>5</td>\n",
       "      <td>[web, email, mobile]</td>\n",
       "      <td>5</td>\n",
       "      <td>7</td>\n",
       "      <td>bogo</td>\n",
       "      <td>9b98b8c7a33c4b65b9aebfe6a799e6d9</td>\n",
       "    </tr>\n",
       "    <tr>\n",
       "      <th>4</th>\n",
       "      <td>5</td>\n",
       "      <td>[web, email]</td>\n",
       "      <td>20</td>\n",
       "      <td>10</td>\n",
       "      <td>discount</td>\n",
       "      <td>0b1e1539f2cc45b7b9fa7c272da2e1d7</td>\n",
       "    </tr>\n",
       "    <tr>\n",
       "      <th>5</th>\n",
       "      <td>3</td>\n",
       "      <td>[web, email, mobile, social]</td>\n",
       "      <td>7</td>\n",
       "      <td>7</td>\n",
       "      <td>discount</td>\n",
       "      <td>2298d6c36e964ae4a3e7e9706d1fb8c2</td>\n",
       "    </tr>\n",
       "    <tr>\n",
       "      <th>6</th>\n",
       "      <td>2</td>\n",
       "      <td>[web, email, mobile, social]</td>\n",
       "      <td>10</td>\n",
       "      <td>10</td>\n",
       "      <td>discount</td>\n",
       "      <td>fafdcd668e3743c1bb461111dcafc2a4</td>\n",
       "    </tr>\n",
       "    <tr>\n",
       "      <th>7</th>\n",
       "      <td>0</td>\n",
       "      <td>[email, mobile, social]</td>\n",
       "      <td>0</td>\n",
       "      <td>3</td>\n",
       "      <td>informational</td>\n",
       "      <td>5a8bc65990b245e5a138643cd4eb9837</td>\n",
       "    </tr>\n",
       "    <tr>\n",
       "      <th>8</th>\n",
       "      <td>5</td>\n",
       "      <td>[web, email, mobile, social]</td>\n",
       "      <td>5</td>\n",
       "      <td>5</td>\n",
       "      <td>bogo</td>\n",
       "      <td>f19421c1d4aa40978ebb69ca19b0e20d</td>\n",
       "    </tr>\n",
       "    <tr>\n",
       "      <th>9</th>\n",
       "      <td>2</td>\n",
       "      <td>[web, email, mobile]</td>\n",
       "      <td>10</td>\n",
       "      <td>7</td>\n",
       "      <td>discount</td>\n",
       "      <td>2906b810c7d4411798c6938adc9daaa5</td>\n",
       "    </tr>\n",
       "  </tbody>\n",
       "</table>\n",
       "</div>"
      ],
      "text/plain": [
       "   reward                      channels  difficulty  duration     offer_type  \\\n",
       "0      10       [email, mobile, social]          10         7           bogo   \n",
       "1      10  [web, email, mobile, social]          10         5           bogo   \n",
       "2       0          [web, email, mobile]           0         4  informational   \n",
       "3       5          [web, email, mobile]           5         7           bogo   \n",
       "4       5                  [web, email]          20        10       discount   \n",
       "5       3  [web, email, mobile, social]           7         7       discount   \n",
       "6       2  [web, email, mobile, social]          10        10       discount   \n",
       "7       0       [email, mobile, social]           0         3  informational   \n",
       "8       5  [web, email, mobile, social]           5         5           bogo   \n",
       "9       2          [web, email, mobile]          10         7       discount   \n",
       "\n",
       "                                 id  \n",
       "0  ae264e3637204a6fb9bb56bc8210ddfd  \n",
       "1  4d5c57ea9a6940dd891ad53e9dbe8da0  \n",
       "2  3f207df678b143eea3cee63160fa8bed  \n",
       "3  9b98b8c7a33c4b65b9aebfe6a799e6d9  \n",
       "4  0b1e1539f2cc45b7b9fa7c272da2e1d7  \n",
       "5  2298d6c36e964ae4a3e7e9706d1fb8c2  \n",
       "6  fafdcd668e3743c1bb461111dcafc2a4  \n",
       "7  5a8bc65990b245e5a138643cd4eb9837  \n",
       "8  f19421c1d4aa40978ebb69ca19b0e20d  \n",
       "9  2906b810c7d4411798c6938adc9daaa5  "
      ]
     },
     "execution_count": 6,
     "metadata": {},
     "output_type": "execute_result"
    }
   ],
   "source": [
    "portfolio"
   ]
  },
  {
   "cell_type": "code",
   "execution_count": 7,
   "id": "1850ec73",
   "metadata": {
    "scrolled": true
   },
   "outputs": [
    {
     "data": {
      "text/html": [
       "<div>\n",
       "<style scoped>\n",
       "    .dataframe tbody tr th:only-of-type {\n",
       "        vertical-align: middle;\n",
       "    }\n",
       "\n",
       "    .dataframe tbody tr th {\n",
       "        vertical-align: top;\n",
       "    }\n",
       "\n",
       "    .dataframe thead th {\n",
       "        text-align: right;\n",
       "    }\n",
       "</style>\n",
       "<table border=\"1\" class=\"dataframe\">\n",
       "  <thead>\n",
       "    <tr style=\"text-align: right;\">\n",
       "      <th></th>\n",
       "      <th>gender</th>\n",
       "      <th>age</th>\n",
       "      <th>id</th>\n",
       "      <th>became_member_on</th>\n",
       "      <th>income</th>\n",
       "    </tr>\n",
       "  </thead>\n",
       "  <tbody>\n",
       "    <tr>\n",
       "      <th>0</th>\n",
       "      <td>None</td>\n",
       "      <td>118</td>\n",
       "      <td>68be06ca386d4c31939f3a4f0e3dd783</td>\n",
       "      <td>20170212</td>\n",
       "      <td>NaN</td>\n",
       "    </tr>\n",
       "    <tr>\n",
       "      <th>1</th>\n",
       "      <td>F</td>\n",
       "      <td>55</td>\n",
       "      <td>0610b486422d4921ae7d2bf64640c50b</td>\n",
       "      <td>20170715</td>\n",
       "      <td>112000.0</td>\n",
       "    </tr>\n",
       "    <tr>\n",
       "      <th>2</th>\n",
       "      <td>None</td>\n",
       "      <td>118</td>\n",
       "      <td>38fe809add3b4fcf9315a9694bb96ff5</td>\n",
       "      <td>20180712</td>\n",
       "      <td>NaN</td>\n",
       "    </tr>\n",
       "    <tr>\n",
       "      <th>3</th>\n",
       "      <td>F</td>\n",
       "      <td>75</td>\n",
       "      <td>78afa995795e4d85b5d9ceeca43f5fef</td>\n",
       "      <td>20170509</td>\n",
       "      <td>100000.0</td>\n",
       "    </tr>\n",
       "    <tr>\n",
       "      <th>4</th>\n",
       "      <td>None</td>\n",
       "      <td>118</td>\n",
       "      <td>a03223e636434f42ac4c3df47e8bac43</td>\n",
       "      <td>20170804</td>\n",
       "      <td>NaN</td>\n",
       "    </tr>\n",
       "  </tbody>\n",
       "</table>\n",
       "</div>"
      ],
      "text/plain": [
       "  gender  age                                id  became_member_on    income\n",
       "0   None  118  68be06ca386d4c31939f3a4f0e3dd783          20170212       NaN\n",
       "1      F   55  0610b486422d4921ae7d2bf64640c50b          20170715  112000.0\n",
       "2   None  118  38fe809add3b4fcf9315a9694bb96ff5          20180712       NaN\n",
       "3      F   75  78afa995795e4d85b5d9ceeca43f5fef          20170509  100000.0\n",
       "4   None  118  a03223e636434f42ac4c3df47e8bac43          20170804       NaN"
      ]
     },
     "execution_count": 7,
     "metadata": {},
     "output_type": "execute_result"
    }
   ],
   "source": [
    "profile.head()"
   ]
  },
  {
   "cell_type": "code",
   "execution_count": 8,
   "id": "e3c28d5f",
   "metadata": {},
   "outputs": [
    {
     "data": {
      "text/html": [
       "<div>\n",
       "<style scoped>\n",
       "    .dataframe tbody tr th:only-of-type {\n",
       "        vertical-align: middle;\n",
       "    }\n",
       "\n",
       "    .dataframe tbody tr th {\n",
       "        vertical-align: top;\n",
       "    }\n",
       "\n",
       "    .dataframe thead th {\n",
       "        text-align: right;\n",
       "    }\n",
       "</style>\n",
       "<table border=\"1\" class=\"dataframe\">\n",
       "  <thead>\n",
       "    <tr style=\"text-align: right;\">\n",
       "      <th></th>\n",
       "      <th>person</th>\n",
       "      <th>event</th>\n",
       "      <th>value</th>\n",
       "      <th>time</th>\n",
       "    </tr>\n",
       "  </thead>\n",
       "  <tbody>\n",
       "    <tr>\n",
       "      <th>55972</th>\n",
       "      <td>0009655768c64bdeb2e877511632db8f</td>\n",
       "      <td>offer received</td>\n",
       "      <td>{'offer id': '5a8bc65990b245e5a138643cd4eb9837'}</td>\n",
       "      <td>168</td>\n",
       "    </tr>\n",
       "    <tr>\n",
       "      <th>77705</th>\n",
       "      <td>0009655768c64bdeb2e877511632db8f</td>\n",
       "      <td>offer viewed</td>\n",
       "      <td>{'offer id': '5a8bc65990b245e5a138643cd4eb9837'}</td>\n",
       "      <td>192</td>\n",
       "    </tr>\n",
       "    <tr>\n",
       "      <th>89291</th>\n",
       "      <td>0009655768c64bdeb2e877511632db8f</td>\n",
       "      <td>transaction</td>\n",
       "      <td>{'amount': 22.16}</td>\n",
       "      <td>228</td>\n",
       "    </tr>\n",
       "    <tr>\n",
       "      <th>113605</th>\n",
       "      <td>0009655768c64bdeb2e877511632db8f</td>\n",
       "      <td>offer received</td>\n",
       "      <td>{'offer id': '3f207df678b143eea3cee63160fa8bed'}</td>\n",
       "      <td>336</td>\n",
       "    </tr>\n",
       "    <tr>\n",
       "      <th>139992</th>\n",
       "      <td>0009655768c64bdeb2e877511632db8f</td>\n",
       "      <td>offer viewed</td>\n",
       "      <td>{'offer id': '3f207df678b143eea3cee63160fa8bed'}</td>\n",
       "      <td>372</td>\n",
       "    </tr>\n",
       "    <tr>\n",
       "      <th>153401</th>\n",
       "      <td>0009655768c64bdeb2e877511632db8f</td>\n",
       "      <td>offer received</td>\n",
       "      <td>{'offer id': 'f19421c1d4aa40978ebb69ca19b0e20d'}</td>\n",
       "      <td>408</td>\n",
       "    </tr>\n",
       "    <tr>\n",
       "      <th>168412</th>\n",
       "      <td>0009655768c64bdeb2e877511632db8f</td>\n",
       "      <td>transaction</td>\n",
       "      <td>{'amount': 8.57}</td>\n",
       "      <td>414</td>\n",
       "    </tr>\n",
       "    <tr>\n",
       "      <th>168413</th>\n",
       "      <td>0009655768c64bdeb2e877511632db8f</td>\n",
       "      <td>offer completed</td>\n",
       "      <td>{'offer_id': 'f19421c1d4aa40978ebb69ca19b0e20d...</td>\n",
       "      <td>414</td>\n",
       "    </tr>\n",
       "    <tr>\n",
       "      <th>187554</th>\n",
       "      <td>0009655768c64bdeb2e877511632db8f</td>\n",
       "      <td>offer viewed</td>\n",
       "      <td>{'offer id': 'f19421c1d4aa40978ebb69ca19b0e20d'}</td>\n",
       "      <td>456</td>\n",
       "    </tr>\n",
       "    <tr>\n",
       "      <th>204340</th>\n",
       "      <td>0009655768c64bdeb2e877511632db8f</td>\n",
       "      <td>offer received</td>\n",
       "      <td>{'offer id': 'fafdcd668e3743c1bb461111dcafc2a4'}</td>\n",
       "      <td>504</td>\n",
       "    </tr>\n",
       "  </tbody>\n",
       "</table>\n",
       "</div>"
      ],
      "text/plain": [
       "                                  person            event  \\\n",
       "55972   0009655768c64bdeb2e877511632db8f   offer received   \n",
       "77705   0009655768c64bdeb2e877511632db8f     offer viewed   \n",
       "89291   0009655768c64bdeb2e877511632db8f      transaction   \n",
       "113605  0009655768c64bdeb2e877511632db8f   offer received   \n",
       "139992  0009655768c64bdeb2e877511632db8f     offer viewed   \n",
       "153401  0009655768c64bdeb2e877511632db8f   offer received   \n",
       "168412  0009655768c64bdeb2e877511632db8f      transaction   \n",
       "168413  0009655768c64bdeb2e877511632db8f  offer completed   \n",
       "187554  0009655768c64bdeb2e877511632db8f     offer viewed   \n",
       "204340  0009655768c64bdeb2e877511632db8f   offer received   \n",
       "\n",
       "                                                    value  time  \n",
       "55972    {'offer id': '5a8bc65990b245e5a138643cd4eb9837'}   168  \n",
       "77705    {'offer id': '5a8bc65990b245e5a138643cd4eb9837'}   192  \n",
       "89291                                   {'amount': 22.16}   228  \n",
       "113605   {'offer id': '3f207df678b143eea3cee63160fa8bed'}   336  \n",
       "139992   {'offer id': '3f207df678b143eea3cee63160fa8bed'}   372  \n",
       "153401   {'offer id': 'f19421c1d4aa40978ebb69ca19b0e20d'}   408  \n",
       "168412                                   {'amount': 8.57}   414  \n",
       "168413  {'offer_id': 'f19421c1d4aa40978ebb69ca19b0e20d...   414  \n",
       "187554   {'offer id': 'f19421c1d4aa40978ebb69ca19b0e20d'}   456  \n",
       "204340   {'offer id': 'fafdcd668e3743c1bb461111dcafc2a4'}   504  "
      ]
     },
     "metadata": {},
     "output_type": "display_data"
    }
   ],
   "source": [
    "display(transcript.sort_values([\"person\", \"time\"]).head(10))"
   ]
  },
  {
   "cell_type": "markdown",
   "id": "6fd16e0d",
   "metadata": {},
   "source": [
    "# Cleaning `transcript` data frame"
   ]
  },
  {
   "cell_type": "markdown",
   "id": "8d81aa39",
   "metadata": {},
   "source": [
    "## unify `offer_id` key\n",
    "\n",
    "In the value column some 'offer id' have an underscore, we'll substitute it for a blank space"
   ]
  },
  {
   "cell_type": "code",
   "execution_count": 9,
   "id": "76287477",
   "metadata": {},
   "outputs": [],
   "source": [
    "def replace_offer_key(offer):\n",
    "    \n",
    "    if \"offer_id\" in offer.keys():\n",
    "        offer[\"offer id\"] = offer[\"offer_id\"]\n",
    "        del offer[\"offer_id\"]\n",
    "        \n",
    "    return offer\n",
    "\n",
    "transcript['value'] = transcript.value.apply(lambda x: replace_offer_key(x))"
   ]
  },
  {
   "cell_type": "markdown",
   "id": "2c43a786",
   "metadata": {},
   "source": [
    "## Merge 'transcript' and 'portfolio'\n",
    "\n",
    "It is useful for reasons explained later, to join `portfolio` and `transcripts` DataFrames"
   ]
  },
  {
   "cell_type": "code",
   "execution_count": 10,
   "id": "7a2b9a83",
   "metadata": {},
   "outputs": [],
   "source": [
    "transcript['offer_id'] = transcript.apply(lambda x: x.value['offer id'] if \"offer\" in x.event else \"Not an offer event\", axis = 1)\n",
    "\n",
    "transcript = transcript.merge(portfolio, how = \"left\", left_on = \"offer_id\", right_on = \"id\")\n",
    "\n",
    "# drop original id offer column\n",
    "transcript = transcript.drop(\"id\", axis = 1)\n"
   ]
  },
  {
   "cell_type": "markdown",
   "id": "d49c886b",
   "metadata": {},
   "source": [
    "## Change duration units\n",
    "\n",
    "The offer duration is in days. We'll proceed to change it to hours so it's in the same units than the column `time`"
   ]
  },
  {
   "cell_type": "code",
   "execution_count": 11,
   "id": "d12762b1",
   "metadata": {},
   "outputs": [],
   "source": [
    "transcript[\"duration\"] = transcript[\"duration\"] * 24"
   ]
  },
  {
   "cell_type": "markdown",
   "id": "d32a1693",
   "metadata": {},
   "source": [
    "## Change person id to integer type\n",
    "\n",
    "`id`as it is in the original `profile` data frame makes inneffient when filtering each customer. In te process of rearranging the `transcript` data frame we'll have to go through each customer to make a series of computations. We have 17.000 constumers, the operation consumes time, specially using that long  `id` string. If we switch to an integer key, the process lasts considerably less time"
   ]
  },
  {
   "cell_type": "code",
   "execution_count": 12,
   "id": "eee2b30e",
   "metadata": {
    "scrolled": true
   },
   "outputs": [],
   "source": [
    "# setting the id value for the first customer\n",
    "new_id = 1\n",
    "\n",
    "# getting customers id\n",
    "customers = np.unique(transcript.person)\n",
    "\n",
    "# initiate a dictionary of old keys with none values\n",
    "customers_id_dict =  dict.fromkeys(customers, None)\n",
    "\n",
    "# initiate empty list to fill with the new customer id\n",
    "customers_id = list()\n",
    "\n",
    "# assign the new corrlative customer id in the transcripts dataframe if the id hasn't previously detected before\n",
    "for idx in transcript.person:\n",
    "    if customers_id_dict[idx] is None:\n",
    "        customers_id_dict[idx] = new_id\n",
    "        new_id += 1\n",
    "    customers_id.append(customers_id_dict[idx])\n",
    "        \n",
    "transcript[\"person\"] = customers_id     \n",
    "profile[\"new_id\"] = profile.id.apply(lambda x: customers_id_dict[x])"
   ]
  },
  {
   "cell_type": "code",
   "execution_count": 13,
   "id": "fb24f6ee",
   "metadata": {},
   "outputs": [
    {
     "data": {
      "text/html": [
       "<div>\n",
       "<style scoped>\n",
       "    .dataframe tbody tr th:only-of-type {\n",
       "        vertical-align: middle;\n",
       "    }\n",
       "\n",
       "    .dataframe tbody tr th {\n",
       "        vertical-align: top;\n",
       "    }\n",
       "\n",
       "    .dataframe thead th {\n",
       "        text-align: right;\n",
       "    }\n",
       "</style>\n",
       "<table border=\"1\" class=\"dataframe\">\n",
       "  <thead>\n",
       "    <tr style=\"text-align: right;\">\n",
       "      <th></th>\n",
       "      <th>person</th>\n",
       "      <th>event</th>\n",
       "      <th>value</th>\n",
       "      <th>time</th>\n",
       "      <th>offer_id</th>\n",
       "      <th>reward</th>\n",
       "      <th>channels</th>\n",
       "      <th>difficulty</th>\n",
       "      <th>duration</th>\n",
       "      <th>offer_type</th>\n",
       "    </tr>\n",
       "  </thead>\n",
       "  <tbody>\n",
       "    <tr>\n",
       "      <th>0</th>\n",
       "      <td>1</td>\n",
       "      <td>offer received</td>\n",
       "      <td>{'offer id': '9b98b8c7a33c4b65b9aebfe6a799e6d9'}</td>\n",
       "      <td>0</td>\n",
       "      <td>9b98b8c7a33c4b65b9aebfe6a799e6d9</td>\n",
       "      <td>5.0</td>\n",
       "      <td>[web, email, mobile]</td>\n",
       "      <td>5.0</td>\n",
       "      <td>168.0</td>\n",
       "      <td>bogo</td>\n",
       "    </tr>\n",
       "    <tr>\n",
       "      <th>1</th>\n",
       "      <td>2</td>\n",
       "      <td>offer received</td>\n",
       "      <td>{'offer id': '0b1e1539f2cc45b7b9fa7c272da2e1d7'}</td>\n",
       "      <td>0</td>\n",
       "      <td>0b1e1539f2cc45b7b9fa7c272da2e1d7</td>\n",
       "      <td>5.0</td>\n",
       "      <td>[web, email]</td>\n",
       "      <td>20.0</td>\n",
       "      <td>240.0</td>\n",
       "      <td>discount</td>\n",
       "    </tr>\n",
       "    <tr>\n",
       "      <th>2</th>\n",
       "      <td>3</td>\n",
       "      <td>offer received</td>\n",
       "      <td>{'offer id': '2906b810c7d4411798c6938adc9daaa5'}</td>\n",
       "      <td>0</td>\n",
       "      <td>2906b810c7d4411798c6938adc9daaa5</td>\n",
       "      <td>2.0</td>\n",
       "      <td>[web, email, mobile]</td>\n",
       "      <td>10.0</td>\n",
       "      <td>168.0</td>\n",
       "      <td>discount</td>\n",
       "    </tr>\n",
       "    <tr>\n",
       "      <th>3</th>\n",
       "      <td>4</td>\n",
       "      <td>offer received</td>\n",
       "      <td>{'offer id': 'fafdcd668e3743c1bb461111dcafc2a4'}</td>\n",
       "      <td>0</td>\n",
       "      <td>fafdcd668e3743c1bb461111dcafc2a4</td>\n",
       "      <td>2.0</td>\n",
       "      <td>[web, email, mobile, social]</td>\n",
       "      <td>10.0</td>\n",
       "      <td>240.0</td>\n",
       "      <td>discount</td>\n",
       "    </tr>\n",
       "    <tr>\n",
       "      <th>4</th>\n",
       "      <td>5</td>\n",
       "      <td>offer received</td>\n",
       "      <td>{'offer id': '4d5c57ea9a6940dd891ad53e9dbe8da0'}</td>\n",
       "      <td>0</td>\n",
       "      <td>4d5c57ea9a6940dd891ad53e9dbe8da0</td>\n",
       "      <td>10.0</td>\n",
       "      <td>[web, email, mobile, social]</td>\n",
       "      <td>10.0</td>\n",
       "      <td>120.0</td>\n",
       "      <td>bogo</td>\n",
       "    </tr>\n",
       "  </tbody>\n",
       "</table>\n",
       "</div>"
      ],
      "text/plain": [
       "   person           event                                             value  \\\n",
       "0       1  offer received  {'offer id': '9b98b8c7a33c4b65b9aebfe6a799e6d9'}   \n",
       "1       2  offer received  {'offer id': '0b1e1539f2cc45b7b9fa7c272da2e1d7'}   \n",
       "2       3  offer received  {'offer id': '2906b810c7d4411798c6938adc9daaa5'}   \n",
       "3       4  offer received  {'offer id': 'fafdcd668e3743c1bb461111dcafc2a4'}   \n",
       "4       5  offer received  {'offer id': '4d5c57ea9a6940dd891ad53e9dbe8da0'}   \n",
       "\n",
       "   time                          offer_id  reward  \\\n",
       "0     0  9b98b8c7a33c4b65b9aebfe6a799e6d9     5.0   \n",
       "1     0  0b1e1539f2cc45b7b9fa7c272da2e1d7     5.0   \n",
       "2     0  2906b810c7d4411798c6938adc9daaa5     2.0   \n",
       "3     0  fafdcd668e3743c1bb461111dcafc2a4     2.0   \n",
       "4     0  4d5c57ea9a6940dd891ad53e9dbe8da0    10.0   \n",
       "\n",
       "                       channels  difficulty  duration offer_type  \n",
       "0          [web, email, mobile]         5.0     168.0       bogo  \n",
       "1                  [web, email]        20.0     240.0   discount  \n",
       "2          [web, email, mobile]        10.0     168.0   discount  \n",
       "3  [web, email, mobile, social]        10.0     240.0   discount  \n",
       "4  [web, email, mobile, social]        10.0     120.0       bogo  "
      ]
     },
     "execution_count": 13,
     "metadata": {},
     "output_type": "execute_result"
    }
   ],
   "source": [
    "transcript.head()"
   ]
  },
  {
   "cell_type": "markdown",
   "id": "36c8ea5c",
   "metadata": {},
   "source": [
    "# Agregate and rearrange data"
   ]
  },
  {
   "cell_type": "markdown",
   "id": "0a3192e5",
   "metadata": {},
   "source": [
    "Getting the completion status for each customer and adding some additional features"
   ]
  },
  {
   "cell_type": "code",
   "execution_count": 14,
   "id": "08ab04d6",
   "metadata": {},
   "outputs": [],
   "source": [
    "customers_list = np.unique(transcript[\"person\"])"
   ]
  },
  {
   "cell_type": "markdown",
   "id": "c0b6595a",
   "metadata": {},
   "source": [
    "For every customer wt get the completion status using the class Customer, which is a data frame, and stack one over the other"
   ]
  },
  {
   "cell_type": "code",
   "execution_count": 15,
   "id": "daa19ff0",
   "metadata": {},
   "outputs": [
    {
     "name": "stdout",
     "output_type": "stream",
     "text": [
      "Customer nº:  0\n",
      "Elapsed time:  0.0008561611175537109\n",
      "Customer nº:  1000\n",
      "Elapsed time:  9.278148651123047\n",
      "Customer nº:  2000\n",
      "Elapsed time:  9.528460025787354\n",
      "Customer nº:  3000\n",
      "Elapsed time:  9.821799516677856\n",
      "Customer nº:  4000\n",
      "Elapsed time:  9.819597959518433\n",
      "Customer nº:  5000\n",
      "Elapsed time:  9.777544260025024\n",
      "Customer nº:  6000\n",
      "Elapsed time:  9.81319522857666\n",
      "Customer nº:  7000\n",
      "Elapsed time:  10.020500898361206\n",
      "Customer nº:  8000\n",
      "Elapsed time:  10.013746500015259\n",
      "Customer nº:  9000\n",
      "Elapsed time:  10.687060832977295\n",
      "Customer nº:  10000\n",
      "Elapsed time:  11.167527198791504\n",
      "Customer nº:  11000\n",
      "Elapsed time:  10.814788818359375\n",
      "Customer nº:  12000\n",
      "Elapsed time:  10.893054723739624\n",
      "Customer nº:  13000\n",
      "Elapsed time:  10.92290449142456\n",
      "Customer nº:  14000\n",
      "Elapsed time:  11.188390016555786\n",
      "Customer nº:  15000\n",
      "Elapsed time:  11.5223069190979\n",
      "Customer nº:  16000\n",
      "Elapsed time:  11.633053302764893\n",
      "Elapsed time:  178.46526336669922\n"
     ]
    }
   ],
   "source": [
    "import time\n",
    "start = time.time()\n",
    "previous_time = time.time()\n",
    "\n",
    "\n",
    "n_customer = 0\n",
    "\n",
    "# initiate offers dataframe\n",
    "offers_df = pd.DataFrame()\n",
    "\n",
    "# getting completion status with Customer class for each client\n",
    "for customer in customers_list:\n",
    "    if n_customer % 1000 == 0: \n",
    "        \n",
    "        print(\"Customer nº: \", n_customer)\n",
    "        current_time = time.time()\n",
    "        print(\"Elapsed time: \", current_time - previous_time)\n",
    "        previous_time = current_time\n",
    "        \n",
    "    current_client = Customer(transcript, customer) # creation of Customer instance\n",
    "    offers_completed = current_client.get_completion_status() # completion status dataframe\n",
    "    offers_df = pd.concat([offers_df, offers_completed]) # concat current data frame with the main one\n",
    "    n_customer += 1\n",
    "    \n",
    "end = time.time()\n",
    "print(\"Elapsed time: \", end - start)"
   ]
  },
  {
   "cell_type": "code",
   "execution_count": 18,
   "id": "1bd31201",
   "metadata": {},
   "outputs": [],
   "source": [
    "offers_df = offers_df.merge(profile.drop(\"id\", axis = 1), how = \"left\", left_on = \"client_id\", right_on = \"new_id\")\n",
    "offers_df = offers_df.merge(portfolio, how = \"left\", left_on = \"offer_id\", right_on = \"id\").drop(\"id\", axis = 1)"
   ]
  },
  {
   "cell_type": "code",
   "execution_count": 19,
   "id": "ac7a4015",
   "metadata": {},
   "outputs": [],
   "source": [
    "offers_df.to_csv(\"processed_data/offers_df.csv\")"
   ]
  }
 ],
 "metadata": {
  "celltoolbar": "Slideshow",
  "kernelspec": {
   "display_name": "Python 3 (ipykernel)",
   "language": "python",
   "name": "python3"
  },
  "language_info": {
   "codemirror_mode": {
    "name": "ipython",
    "version": 3
   },
   "file_extension": ".py",
   "mimetype": "text/x-python",
   "name": "python",
   "nbconvert_exporter": "python",
   "pygments_lexer": "ipython3",
   "version": "3.9.13"
  },
  "toc": {
   "base_numbering": 1,
   "nav_menu": {},
   "number_sections": true,
   "sideBar": true,
   "skip_h1_title": false,
   "title_cell": "Table of Contents",
   "title_sidebar": "Contents",
   "toc_cell": false,
   "toc_position": {
    "height": "calc(100% - 180px)",
    "left": "10px",
    "top": "150px",
    "width": "426.656px"
   },
   "toc_section_display": true,
   "toc_window_display": true
  },
  "varInspector": {
   "cols": {
    "lenName": 16,
    "lenType": 16,
    "lenVar": 40
   },
   "kernels_config": {
    "python": {
     "delete_cmd_postfix": "",
     "delete_cmd_prefix": "del ",
     "library": "var_list.py",
     "varRefreshCmd": "print(var_dic_list())"
    },
    "r": {
     "delete_cmd_postfix": ") ",
     "delete_cmd_prefix": "rm(",
     "library": "var_list.r",
     "varRefreshCmd": "cat(var_dic_list()) "
    }
   },
   "types_to_exclude": [
    "module",
    "function",
    "builtin_function_or_method",
    "instance",
    "_Feature"
   ],
   "window_display": false
  }
 },
 "nbformat": 4,
 "nbformat_minor": 5
}
