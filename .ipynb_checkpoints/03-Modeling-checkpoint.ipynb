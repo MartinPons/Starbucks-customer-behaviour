{
 "cells": [
  {
   "cell_type": "code",
   "execution_count": 1,
   "id": "0982fa37",
   "metadata": {
    "scrolled": true
   },
   "outputs": [],
   "source": [
    "from StarbucksAnalysis.model import pretty_coefficients, expand_grid, fit_logistic, model_outcome\n",
    "import pandas as pd\n",
    "import numpy as np\n",
    "import pickle\n",
    "import patsy"
   ]
  },
  {
   "cell_type": "markdown",
   "id": "dba44053",
   "metadata": {},
   "source": [
    "# Load data"
   ]
  },
  {
   "cell_type": "code",
   "execution_count": 2,
   "id": "b402d0de",
   "metadata": {
    "scrolled": true
   },
   "outputs": [],
   "source": [
    "offers = pickle.load(open(\"processed_data/offers_cleaned.p\", \"rb\"))"
   ]
  },
  {
   "cell_type": "markdown",
   "id": "e6f07edb",
   "metadata": {},
   "source": [
    "# No interaction"
   ]
  },
  {
   "cell_type": "code",
   "execution_count": 3,
   "id": "b934c54c",
   "metadata": {
    "scrolled": true
   },
   "outputs": [],
   "source": [
    "lg_no_interaction, formula, exog_train_no_int, exog_val_no_int, _,  y_val_no_int = fit_logistic(offers, [\"income_thousands\", \"gender\", \"young\", \"seniority\", \"social\"])"
   ]
  },
  {
   "cell_type": "code",
   "execution_count": 4,
   "id": "b2aaeee1",
   "metadata": {},
   "outputs": [
    {
     "name": "stdout",
     "output_type": "stream",
     "text": [
      "Accuracy:  0.6662656943086986\n",
      "\n",
      "Confusion matrix\n",
      "[[5987 1557]\n",
      " [2882 2875]]\n",
      "\n",
      "Calssification report\n",
      "              precision    recall  f1-score   support\n",
      "\n",
      "           0       0.68      0.79      0.73      7544\n",
      "           1       0.65      0.50      0.56      5757\n",
      "\n",
      "    accuracy                           0.67     13301\n",
      "   macro avg       0.66      0.65      0.65     13301\n",
      "weighted avg       0.66      0.67      0.66     13301\n",
      "\n"
     ]
    }
   ],
   "source": [
    "model_outcome(lg_no_interaction, exog_val_no_int, y_val_no_int)"
   ]
  },
  {
   "cell_type": "code",
   "execution_count": 5,
   "id": "5c04520d",
   "metadata": {},
   "outputs": [
    {
     "data": {
      "text/html": [
       "<div>\n",
       "<style scoped>\n",
       "    .dataframe tbody tr th:only-of-type {\n",
       "        vertical-align: middle;\n",
       "    }\n",
       "\n",
       "    .dataframe tbody tr th {\n",
       "        vertical-align: top;\n",
       "    }\n",
       "\n",
       "    .dataframe thead th {\n",
       "        text-align: right;\n",
       "    }\n",
       "</style>\n",
       "<table border=\"1\" class=\"dataframe\">\n",
       "  <thead>\n",
       "    <tr style=\"text-align: right;\">\n",
       "      <th></th>\n",
       "      <th>Feature</th>\n",
       "      <th>Coef</th>\n",
       "      <th>odds ratio</th>\n",
       "    </tr>\n",
       "  </thead>\n",
       "  <tbody>\n",
       "    <tr>\n",
       "      <th>0</th>\n",
       "      <td>Intercept</td>\n",
       "      <td>-0.389</td>\n",
       "      <td>0.678</td>\n",
       "    </tr>\n",
       "    <tr>\n",
       "      <th>1</th>\n",
       "      <td>[T.Bogo]</td>\n",
       "      <td>-0.542</td>\n",
       "      <td>0.581</td>\n",
       "    </tr>\n",
       "    <tr>\n",
       "      <th>2</th>\n",
       "      <td>[T.Discount]</td>\n",
       "      <td>-0.050</td>\n",
       "      <td>0.951</td>\n",
       "    </tr>\n",
       "    <tr>\n",
       "      <th>3</th>\n",
       "      <td>gender[T.Male]</td>\n",
       "      <td>-0.197</td>\n",
       "      <td>0.822</td>\n",
       "    </tr>\n",
       "    <tr>\n",
       "      <th>4</th>\n",
       "      <td>gender[T.Other]</td>\n",
       "      <td>0.371</td>\n",
       "      <td>1.450</td>\n",
       "    </tr>\n",
       "    <tr>\n",
       "      <th>5</th>\n",
       "      <td>young[T.True]</td>\n",
       "      <td>-0.262</td>\n",
       "      <td>0.769</td>\n",
       "    </tr>\n",
       "    <tr>\n",
       "      <th>6</th>\n",
       "      <td>seniority[T.Gen2]</td>\n",
       "      <td>0.365</td>\n",
       "      <td>1.441</td>\n",
       "    </tr>\n",
       "    <tr>\n",
       "      <th>7</th>\n",
       "      <td>seniority[T.Gen3]</td>\n",
       "      <td>-0.633</td>\n",
       "      <td>0.531</td>\n",
       "    </tr>\n",
       "    <tr>\n",
       "      <th>8</th>\n",
       "      <td>social[T.True]</td>\n",
       "      <td>1.221</td>\n",
       "      <td>3.390</td>\n",
       "    </tr>\n",
       "    <tr>\n",
       "      <th>9</th>\n",
       "      <td>income_thousands</td>\n",
       "      <td>0.004</td>\n",
       "      <td>1.004</td>\n",
       "    </tr>\n",
       "  </tbody>\n",
       "</table>\n",
       "</div>"
      ],
      "text/plain": [
       "             Feature   Coef  odds ratio\n",
       "0          Intercept -0.389       0.678\n",
       "1           [T.Bogo] -0.542       0.581\n",
       "2       [T.Discount] -0.050       0.951\n",
       "3     gender[T.Male] -0.197       0.822\n",
       "4    gender[T.Other]  0.371       1.450\n",
       "5      young[T.True] -0.262       0.769\n",
       "6  seniority[T.Gen2]  0.365       1.441\n",
       "7  seniority[T.Gen3] -0.633       0.531\n",
       "8     social[T.True]  1.221       3.390\n",
       "9   income_thousands  0.004       1.004"
      ]
     },
     "execution_count": 5,
     "metadata": {},
     "output_type": "execute_result"
    }
   ],
   "source": [
    "pretty_coefficients(lg_no_interaction, exog_train_no_int)"
   ]
  },
  {
   "cell_type": "markdown",
   "id": "85a3063c",
   "metadata": {},
   "source": [
    "# Interaction"
   ]
  },
  {
   "cell_type": "code",
   "execution_count": 6,
   "id": "861e7187",
   "metadata": {
    "scrolled": false
   },
   "outputs": [],
   "source": [
    "\n",
    "lg_interaction, formula, exog_train_int, exog_val_int, _, y_val_int = fit_logistic(offers, [\"income_thousands\", \"gender\", \"young\", \"seniority\", \"social\"], interaction = True)"
   ]
  },
  {
   "cell_type": "code",
   "execution_count": 7,
   "id": "feb58467",
   "metadata": {},
   "outputs": [
    {
     "data": {
      "text/html": [
       "<div>\n",
       "<style scoped>\n",
       "    .dataframe tbody tr th:only-of-type {\n",
       "        vertical-align: middle;\n",
       "    }\n",
       "\n",
       "    .dataframe tbody tr th {\n",
       "        vertical-align: top;\n",
       "    }\n",
       "\n",
       "    .dataframe thead th {\n",
       "        text-align: right;\n",
       "    }\n",
       "</style>\n",
       "<table border=\"1\" class=\"dataframe\">\n",
       "  <thead>\n",
       "    <tr style=\"text-align: right;\">\n",
       "      <th></th>\n",
       "      <th>Feature</th>\n",
       "      <th>Coef</th>\n",
       "      <th>odds ratio</th>\n",
       "    </tr>\n",
       "  </thead>\n",
       "  <tbody>\n",
       "    <tr>\n",
       "      <th>0</th>\n",
       "      <td>Intercept</td>\n",
       "      <td>0.196</td>\n",
       "      <td>1.216</td>\n",
       "    </tr>\n",
       "    <tr>\n",
       "      <th>1</th>\n",
       "      <td>[T.Bogo]</td>\n",
       "      <td>-1.901</td>\n",
       "      <td>0.149</td>\n",
       "    </tr>\n",
       "    <tr>\n",
       "      <th>2</th>\n",
       "      <td>[T.Discount]</td>\n",
       "      <td>-1.371</td>\n",
       "      <td>0.254</td>\n",
       "    </tr>\n",
       "    <tr>\n",
       "      <th>3</th>\n",
       "      <td>gender[T.Male]:[Bogo]</td>\n",
       "      <td>-0.338</td>\n",
       "      <td>0.713</td>\n",
       "    </tr>\n",
       "    <tr>\n",
       "      <th>4</th>\n",
       "      <td>gender[T.Other]:[Bogo]</td>\n",
       "      <td>0.531</td>\n",
       "      <td>1.700</td>\n",
       "    </tr>\n",
       "    <tr>\n",
       "      <th>5</th>\n",
       "      <td>gender[T.Male]:[Discount]</td>\n",
       "      <td>-0.158</td>\n",
       "      <td>0.854</td>\n",
       "    </tr>\n",
       "    <tr>\n",
       "      <th>6</th>\n",
       "      <td>gender[T.Other]:[Discount]</td>\n",
       "      <td>0.438</td>\n",
       "      <td>1.550</td>\n",
       "    </tr>\n",
       "    <tr>\n",
       "      <th>7</th>\n",
       "      <td>gender[T.Male]:[Informational]</td>\n",
       "      <td>0.004</td>\n",
       "      <td>1.004</td>\n",
       "    </tr>\n",
       "    <tr>\n",
       "      <th>8</th>\n",
       "      <td>gender[T.Other]:[Informational]</td>\n",
       "      <td>0.250</td>\n",
       "      <td>1.284</td>\n",
       "    </tr>\n",
       "    <tr>\n",
       "      <th>9</th>\n",
       "      <td>young[T.True]:[Bogo]</td>\n",
       "      <td>-0.330</td>\n",
       "      <td>0.719</td>\n",
       "    </tr>\n",
       "    <tr>\n",
       "      <th>10</th>\n",
       "      <td>young[T.True]:[Discount]</td>\n",
       "      <td>-0.361</td>\n",
       "      <td>0.697</td>\n",
       "    </tr>\n",
       "    <tr>\n",
       "      <th>11</th>\n",
       "      <td>young[T.True]:[Informational]</td>\n",
       "      <td>0.009</td>\n",
       "      <td>1.009</td>\n",
       "    </tr>\n",
       "    <tr>\n",
       "      <th>12</th>\n",
       "      <td>seniority[T.Gen2]:[Bogo]</td>\n",
       "      <td>0.743</td>\n",
       "      <td>2.102</td>\n",
       "    </tr>\n",
       "    <tr>\n",
       "      <th>13</th>\n",
       "      <td>seniority[T.Gen3]:[Bogo]</td>\n",
       "      <td>-0.296</td>\n",
       "      <td>0.744</td>\n",
       "    </tr>\n",
       "    <tr>\n",
       "      <th>14</th>\n",
       "      <td>seniority[T.Gen2]:[Discount]</td>\n",
       "      <td>0.123</td>\n",
       "      <td>1.131</td>\n",
       "    </tr>\n",
       "    <tr>\n",
       "      <th>15</th>\n",
       "      <td>seniority[T.Gen3]:[Discount]</td>\n",
       "      <td>-1.008</td>\n",
       "      <td>0.365</td>\n",
       "    </tr>\n",
       "    <tr>\n",
       "      <th>16</th>\n",
       "      <td>seniority[T.Gen2]:[Informational]</td>\n",
       "      <td>0.047</td>\n",
       "      <td>1.048</td>\n",
       "    </tr>\n",
       "    <tr>\n",
       "      <th>17</th>\n",
       "      <td>seniority[T.Gen3]:[Informational]</td>\n",
       "      <td>-0.773</td>\n",
       "      <td>0.462</td>\n",
       "    </tr>\n",
       "    <tr>\n",
       "      <th>18</th>\n",
       "      <td>social[T.True]:[Bogo]</td>\n",
       "      <td>0.635</td>\n",
       "      <td>1.887</td>\n",
       "    </tr>\n",
       "    <tr>\n",
       "      <th>19</th>\n",
       "      <td>social[T.True]:[Discount]</td>\n",
       "      <td>1.813</td>\n",
       "      <td>6.127</td>\n",
       "    </tr>\n",
       "    <tr>\n",
       "      <th>20</th>\n",
       "      <td>social[T.True]:[Informational]</td>\n",
       "      <td>0.973</td>\n",
       "      <td>2.645</td>\n",
       "    </tr>\n",
       "    <tr>\n",
       "      <th>21</th>\n",
       "      <td>income_thousands:[Bogo]</td>\n",
       "      <td>0.011</td>\n",
       "      <td>1.011</td>\n",
       "    </tr>\n",
       "    <tr>\n",
       "      <th>22</th>\n",
       "      <td>income_thousands:[Discount]</td>\n",
       "      <td>0.006</td>\n",
       "      <td>1.006</td>\n",
       "    </tr>\n",
       "    <tr>\n",
       "      <th>23</th>\n",
       "      <td>income_thousands:[Informational]</td>\n",
       "      <td>-0.011</td>\n",
       "      <td>0.989</td>\n",
       "    </tr>\n",
       "  </tbody>\n",
       "</table>\n",
       "</div>"
      ],
      "text/plain": [
       "                              Feature   Coef  odds ratio\n",
       "0                           Intercept  0.196       1.216\n",
       "1                            [T.Bogo] -1.901       0.149\n",
       "2                        [T.Discount] -1.371       0.254\n",
       "3               gender[T.Male]:[Bogo] -0.338       0.713\n",
       "4              gender[T.Other]:[Bogo]  0.531       1.700\n",
       "5           gender[T.Male]:[Discount] -0.158       0.854\n",
       "6          gender[T.Other]:[Discount]  0.438       1.550\n",
       "7      gender[T.Male]:[Informational]  0.004       1.004\n",
       "8     gender[T.Other]:[Informational]  0.250       1.284\n",
       "9                young[T.True]:[Bogo] -0.330       0.719\n",
       "10           young[T.True]:[Discount] -0.361       0.697\n",
       "11      young[T.True]:[Informational]  0.009       1.009\n",
       "12           seniority[T.Gen2]:[Bogo]  0.743       2.102\n",
       "13           seniority[T.Gen3]:[Bogo] -0.296       0.744\n",
       "14       seniority[T.Gen2]:[Discount]  0.123       1.131\n",
       "15       seniority[T.Gen3]:[Discount] -1.008       0.365\n",
       "16  seniority[T.Gen2]:[Informational]  0.047       1.048\n",
       "17  seniority[T.Gen3]:[Informational] -0.773       0.462\n",
       "18              social[T.True]:[Bogo]  0.635       1.887\n",
       "19          social[T.True]:[Discount]  1.813       6.127\n",
       "20     social[T.True]:[Informational]  0.973       2.645\n",
       "21            income_thousands:[Bogo]  0.011       1.011\n",
       "22        income_thousands:[Discount]  0.006       1.006\n",
       "23   income_thousands:[Informational] -0.011       0.989"
      ]
     },
     "execution_count": 7,
     "metadata": {},
     "output_type": "execute_result"
    }
   ],
   "source": [
    "pretty_coefficients(lg_interaction, exog_train_int)"
   ]
  },
  {
   "cell_type": "code",
   "execution_count": 8,
   "id": "b5ffc934",
   "metadata": {
    "scrolled": false
   },
   "outputs": [
    {
     "name": "stdout",
     "output_type": "stream",
     "text": [
      "Accuracy:  0.6734831967521239\n",
      "\n",
      "Confusion matrix\n",
      "[[5869 1675]\n",
      " [2668 3089]]\n",
      "\n",
      "Calssification report\n",
      "              precision    recall  f1-score   support\n",
      "\n",
      "           0       0.69      0.78      0.73      7544\n",
      "           1       0.65      0.54      0.59      5757\n",
      "\n",
      "    accuracy                           0.67     13301\n",
      "   macro avg       0.67      0.66      0.66     13301\n",
      "weighted avg       0.67      0.67      0.67     13301\n",
      "\n"
     ]
    }
   ],
   "source": [
    "model_outcome(lg_interaction, exog_val_int, y_val_int)"
   ]
  },
  {
   "cell_type": "markdown",
   "id": "12095c5a",
   "metadata": {},
   "source": [
    "# Parameter tunning"
   ]
  },
  {
   "cell_type": "markdown",
   "id": "90c3fa57",
   "metadata": {},
   "source": [
    "The model with interaction terms performs slightly better. We go one step further and tune hyperparameters for that model. Specifically, we'll tune the solver parameter and the tol parameter, the algorithm for optimitazion and the stopping criteria respectivelly"
   ]
  },
  {
   "cell_type": "code",
   "execution_count": 9,
   "id": "4736be1f",
   "metadata": {},
   "outputs": [],
   "source": [
    "\n",
    "param_grid = {\n",
    "    'solver': ['newton-cg', 'lbfgs', 'liblinear', 'sag', 'saga'],\n",
    "    'tol': [1e-4, 1e-3, 1e-2]\n",
    "}\n"
   ]
  },
  {
   "cell_type": "code",
   "execution_count": 10,
   "id": "0e110be8",
   "metadata": {},
   "outputs": [],
   "source": [
    "lg_tunning, formula, exog_train_tun, exog_val_tun, X_val, y_val_tun = fit_logistic(offers, [\"income_thousands\", \"gender\", \"young\", \"seniority\", \"social\"], interaction = True, param_grid = param_grid)"
   ]
  },
  {
   "cell_type": "code",
   "execution_count": 11,
   "id": "421732ec",
   "metadata": {
    "scrolled": true
   },
   "outputs": [
    {
     "data": {
      "text/html": [
       "<div>\n",
       "<style scoped>\n",
       "    .dataframe tbody tr th:only-of-type {\n",
       "        vertical-align: middle;\n",
       "    }\n",
       "\n",
       "    .dataframe tbody tr th {\n",
       "        vertical-align: top;\n",
       "    }\n",
       "\n",
       "    .dataframe thead th {\n",
       "        text-align: right;\n",
       "    }\n",
       "</style>\n",
       "<table border=\"1\" class=\"dataframe\">\n",
       "  <thead>\n",
       "    <tr style=\"text-align: right;\">\n",
       "      <th></th>\n",
       "      <th>Feature</th>\n",
       "      <th>Coef</th>\n",
       "      <th>odds ratio</th>\n",
       "    </tr>\n",
       "  </thead>\n",
       "  <tbody>\n",
       "    <tr>\n",
       "      <th>0</th>\n",
       "      <td>Intercept</td>\n",
       "      <td>0.192</td>\n",
       "      <td>1.211</td>\n",
       "    </tr>\n",
       "    <tr>\n",
       "      <th>1</th>\n",
       "      <td>[T.Bogo]</td>\n",
       "      <td>-1.913</td>\n",
       "      <td>0.148</td>\n",
       "    </tr>\n",
       "    <tr>\n",
       "      <th>2</th>\n",
       "      <td>[T.Discount]</td>\n",
       "      <td>-1.374</td>\n",
       "      <td>0.253</td>\n",
       "    </tr>\n",
       "    <tr>\n",
       "      <th>3</th>\n",
       "      <td>gender[T.Male]:[Bogo]</td>\n",
       "      <td>-0.341</td>\n",
       "      <td>0.711</td>\n",
       "    </tr>\n",
       "    <tr>\n",
       "      <th>4</th>\n",
       "      <td>gender[T.Other]:[Bogo]</td>\n",
       "      <td>0.462</td>\n",
       "      <td>1.587</td>\n",
       "    </tr>\n",
       "    <tr>\n",
       "      <th>5</th>\n",
       "      <td>gender[T.Male]:[Discount]</td>\n",
       "      <td>-0.166</td>\n",
       "      <td>0.847</td>\n",
       "    </tr>\n",
       "    <tr>\n",
       "      <th>6</th>\n",
       "      <td>gender[T.Other]:[Discount]</td>\n",
       "      <td>0.393</td>\n",
       "      <td>1.481</td>\n",
       "    </tr>\n",
       "    <tr>\n",
       "      <th>7</th>\n",
       "      <td>gender[T.Male]:[Informational]</td>\n",
       "      <td>-0.001</td>\n",
       "      <td>0.999</td>\n",
       "    </tr>\n",
       "    <tr>\n",
       "      <th>8</th>\n",
       "      <td>gender[T.Other]:[Informational]</td>\n",
       "      <td>0.184</td>\n",
       "      <td>1.202</td>\n",
       "    </tr>\n",
       "    <tr>\n",
       "      <th>9</th>\n",
       "      <td>young[T.True]:[Bogo]</td>\n",
       "      <td>-0.328</td>\n",
       "      <td>0.720</td>\n",
       "    </tr>\n",
       "    <tr>\n",
       "      <th>10</th>\n",
       "      <td>young[T.True]:[Discount]</td>\n",
       "      <td>-0.362</td>\n",
       "      <td>0.696</td>\n",
       "    </tr>\n",
       "    <tr>\n",
       "      <th>11</th>\n",
       "      <td>young[T.True]:[Informational]</td>\n",
       "      <td>-0.001</td>\n",
       "      <td>0.999</td>\n",
       "    </tr>\n",
       "    <tr>\n",
       "      <th>12</th>\n",
       "      <td>seniority[T.Gen2]:[Bogo]</td>\n",
       "      <td>0.737</td>\n",
       "      <td>2.089</td>\n",
       "    </tr>\n",
       "    <tr>\n",
       "      <th>13</th>\n",
       "      <td>seniority[T.Gen3]:[Bogo]</td>\n",
       "      <td>-0.295</td>\n",
       "      <td>0.745</td>\n",
       "    </tr>\n",
       "    <tr>\n",
       "      <th>14</th>\n",
       "      <td>seniority[T.Gen2]:[Discount]</td>\n",
       "      <td>0.120</td>\n",
       "      <td>1.127</td>\n",
       "    </tr>\n",
       "    <tr>\n",
       "      <th>15</th>\n",
       "      <td>seniority[T.Gen3]:[Discount]</td>\n",
       "      <td>-1.015</td>\n",
       "      <td>0.362</td>\n",
       "    </tr>\n",
       "    <tr>\n",
       "      <th>16</th>\n",
       "      <td>seniority[T.Gen2]:[Informational]</td>\n",
       "      <td>0.055</td>\n",
       "      <td>1.057</td>\n",
       "    </tr>\n",
       "    <tr>\n",
       "      <th>17</th>\n",
       "      <td>seniority[T.Gen3]:[Informational]</td>\n",
       "      <td>-0.761</td>\n",
       "      <td>0.467</td>\n",
       "    </tr>\n",
       "    <tr>\n",
       "      <th>18</th>\n",
       "      <td>social[T.True]:[Bogo]</td>\n",
       "      <td>0.637</td>\n",
       "      <td>1.891</td>\n",
       "    </tr>\n",
       "    <tr>\n",
       "      <th>19</th>\n",
       "      <td>social[T.True]:[Discount]</td>\n",
       "      <td>1.813</td>\n",
       "      <td>6.129</td>\n",
       "    </tr>\n",
       "    <tr>\n",
       "      <th>20</th>\n",
       "      <td>social[T.True]:[Informational]</td>\n",
       "      <td>0.968</td>\n",
       "      <td>2.633</td>\n",
       "    </tr>\n",
       "    <tr>\n",
       "      <th>21</th>\n",
       "      <td>income_thousands:[Bogo]</td>\n",
       "      <td>0.011</td>\n",
       "      <td>1.011</td>\n",
       "    </tr>\n",
       "    <tr>\n",
       "      <th>22</th>\n",
       "      <td>income_thousands:[Discount]</td>\n",
       "      <td>0.006</td>\n",
       "      <td>1.006</td>\n",
       "    </tr>\n",
       "    <tr>\n",
       "      <th>23</th>\n",
       "      <td>income_thousands:[Informational]</td>\n",
       "      <td>-0.011</td>\n",
       "      <td>0.989</td>\n",
       "    </tr>\n",
       "  </tbody>\n",
       "</table>\n",
       "</div>"
      ],
      "text/plain": [
       "                              Feature   Coef  odds ratio\n",
       "0                           Intercept  0.192       1.211\n",
       "1                            [T.Bogo] -1.913       0.148\n",
       "2                        [T.Discount] -1.374       0.253\n",
       "3               gender[T.Male]:[Bogo] -0.341       0.711\n",
       "4              gender[T.Other]:[Bogo]  0.462       1.587\n",
       "5           gender[T.Male]:[Discount] -0.166       0.847\n",
       "6          gender[T.Other]:[Discount]  0.393       1.481\n",
       "7      gender[T.Male]:[Informational] -0.001       0.999\n",
       "8     gender[T.Other]:[Informational]  0.184       1.202\n",
       "9                young[T.True]:[Bogo] -0.328       0.720\n",
       "10           young[T.True]:[Discount] -0.362       0.696\n",
       "11      young[T.True]:[Informational] -0.001       0.999\n",
       "12           seniority[T.Gen2]:[Bogo]  0.737       2.089\n",
       "13           seniority[T.Gen3]:[Bogo] -0.295       0.745\n",
       "14       seniority[T.Gen2]:[Discount]  0.120       1.127\n",
       "15       seniority[T.Gen3]:[Discount] -1.015       0.362\n",
       "16  seniority[T.Gen2]:[Informational]  0.055       1.057\n",
       "17  seniority[T.Gen3]:[Informational] -0.761       0.467\n",
       "18              social[T.True]:[Bogo]  0.637       1.891\n",
       "19          social[T.True]:[Discount]  1.813       6.129\n",
       "20     social[T.True]:[Informational]  0.968       2.633\n",
       "21            income_thousands:[Bogo]  0.011       1.011\n",
       "22        income_thousands:[Discount]  0.006       1.006\n",
       "23   income_thousands:[Informational] -0.011       0.989"
      ]
     },
     "execution_count": 11,
     "metadata": {},
     "output_type": "execute_result"
    }
   ],
   "source": [
    "pretty_coefficients(lg_tunning, exog_train_tun)"
   ]
  },
  {
   "cell_type": "code",
   "execution_count": 12,
   "id": "cdc0cb2a",
   "metadata": {
    "scrolled": false
   },
   "outputs": [
    {
     "name": "stdout",
     "output_type": "stream",
     "text": [
      "Accuracy:  0.674235019923314\n",
      "\n",
      "Confusion matrix\n",
      "[[5884 1660]\n",
      " [2673 3084]]\n",
      "\n",
      "Calssification report\n",
      "              precision    recall  f1-score   support\n",
      "\n",
      "           0       0.69      0.78      0.73      7544\n",
      "           1       0.65      0.54      0.59      5757\n",
      "\n",
      "    accuracy                           0.67     13301\n",
      "   macro avg       0.67      0.66      0.66     13301\n",
      "weighted avg       0.67      0.67      0.67     13301\n",
      "\n"
     ]
    }
   ],
   "source": [
    "model_outcome(lg_tunning, exog_val_tun, y_val_tun)"
   ]
  },
  {
   "cell_type": "code",
   "execution_count": 13,
   "id": "fea18f5d",
   "metadata": {},
   "outputs": [
    {
     "ename": "NameError",
     "evalue": "name 'f1_score' is not defined",
     "output_type": "error",
     "traceback": [
      "\u001b[1;31m---------------------------------------------------------------------------\u001b[0m",
      "\u001b[1;31mNameError\u001b[0m                                 Traceback (most recent call last)",
      "\u001b[1;32m~\\AppData\\Local\\Temp\\ipykernel_396\\584545330.py\u001b[0m in \u001b[0;36m<module>\u001b[1;34m\u001b[0m\n\u001b[1;32m----> 1\u001b[1;33m f1_df = pd.DataFrame({\"No interaction\": [np.round(f1_score(y_val_no_int, lg_no_interaction.predict(exog_val_no_int)), 2)],\n\u001b[0m\u001b[0;32m      2\u001b[0m                       \u001b[1;34m\"Interaction\"\u001b[0m\u001b[1;33m:\u001b[0m \u001b[1;33m[\u001b[0m\u001b[0mnp\u001b[0m\u001b[1;33m.\u001b[0m\u001b[0mround\u001b[0m\u001b[1;33m(\u001b[0m\u001b[0mf1_score\u001b[0m\u001b[1;33m(\u001b[0m\u001b[0my_val_int\u001b[0m\u001b[1;33m,\u001b[0m \u001b[0mlg_interaction\u001b[0m\u001b[1;33m.\u001b[0m\u001b[0mpredict\u001b[0m\u001b[1;33m(\u001b[0m\u001b[0mexog_val_int\u001b[0m\u001b[1;33m)\u001b[0m\u001b[1;33m)\u001b[0m\u001b[1;33m,\u001b[0m \u001b[1;36m2\u001b[0m\u001b[1;33m)\u001b[0m\u001b[1;33m]\u001b[0m\u001b[1;33m,\u001b[0m\u001b[1;33m\u001b[0m\u001b[1;33m\u001b[0m\u001b[0m\n\u001b[0;32m      3\u001b[0m                       \"Tunned\": [np.round(f1_score(y_val_tun, lg_tunning.predict(exog_val_tun)), 2)]})\n",
      "\u001b[1;31mNameError\u001b[0m: name 'f1_score' is not defined"
     ]
    }
   ],
   "source": [
    "f1_df = pd.DataFrame({\"No interaction\": [np.round(f1_score(y_val_no_int, lg_no_interaction.predict(exog_val_no_int)), 2)],\n",
    "                      \"Interaction\": [np.round(f1_score(y_val_int, lg_interaction.predict(exog_val_int)), 2)],\n",
    "                      \"Tunned\": [np.round(f1_score(y_val_tun, lg_tunning.predict(exog_val_tun)), 2)]})"
   ]
  },
  {
   "cell_type": "code",
   "execution_count": null,
   "id": "9fbdbdea",
   "metadata": {
    "scrolled": true
   },
   "outputs": [],
   "source": [
    "f1_df"
   ]
  },
  {
   "cell_type": "markdown",
   "id": "b9762e89",
   "metadata": {},
   "source": [
    "There is an issue with patsy: it can not be save, in some circunstances, using the pickle module. The fitted model must be use for some visualizations in the notebook number for. The model will just be fitted again using the same code"
   ]
  }
 ],
 "metadata": {
  "kernelspec": {
   "display_name": "Python 3 (ipykernel)",
   "language": "python",
   "name": "python3"
  },
  "language_info": {
   "codemirror_mode": {
    "name": "ipython",
    "version": 3
   },
   "file_extension": ".py",
   "mimetype": "text/x-python",
   "name": "python",
   "nbconvert_exporter": "python",
   "pygments_lexer": "ipython3",
   "version": "3.9.13"
  },
  "toc": {
   "base_numbering": 1,
   "nav_menu": {},
   "number_sections": true,
   "sideBar": true,
   "skip_h1_title": false,
   "title_cell": "Table of Contents",
   "title_sidebar": "Contents",
   "toc_cell": false,
   "toc_position": {
    "height": "757px",
    "left": "246px",
    "top": "111.125px",
    "width": "383.958px"
   },
   "toc_section_display": true,
   "toc_window_display": true
  },
  "varInspector": {
   "cols": {
    "lenName": 16,
    "lenType": 16,
    "lenVar": 40
   },
   "kernels_config": {
    "python": {
     "delete_cmd_postfix": "",
     "delete_cmd_prefix": "del ",
     "library": "var_list.py",
     "varRefreshCmd": "print(var_dic_list())"
    },
    "r": {
     "delete_cmd_postfix": ") ",
     "delete_cmd_prefix": "rm(",
     "library": "var_list.r",
     "varRefreshCmd": "cat(var_dic_list()) "
    }
   },
   "types_to_exclude": [
    "module",
    "function",
    "builtin_function_or_method",
    "instance",
    "_Feature"
   ],
   "window_display": false
  }
 },
 "nbformat": 4,
 "nbformat_minor": 5
}
