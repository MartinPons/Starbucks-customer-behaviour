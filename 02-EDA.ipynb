{
 "cells": [
  {
   "cell_type": "code",
   "execution_count": 1,
   "id": "7dc807de",
   "metadata": {},
   "outputs": [],
   "source": [
    "import pandas as pd\n",
    "import numpy as np\n",
    "import time\n",
    "from datetime import datetime\n",
    "from matplotlib import pyplot as plt\n",
    "import seaborn as sns\n",
    "import pickle\n",
    "%matplotlib inline"
   ]
  },
  {
   "cell_type": "markdown",
   "id": "d76c3924",
   "metadata": {},
   "source": [
    "# Load data"
   ]
  },
  {
   "cell_type": "code",
   "execution_count": 2,
   "id": "d14bab2a",
   "metadata": {},
   "outputs": [
    {
     "data": {
      "text/html": [
       "<div>\n",
       "<style scoped>\n",
       "    .dataframe tbody tr th:only-of-type {\n",
       "        vertical-align: middle;\n",
       "    }\n",
       "\n",
       "    .dataframe tbody tr th {\n",
       "        vertical-align: top;\n",
       "    }\n",
       "\n",
       "    .dataframe thead th {\n",
       "        text-align: right;\n",
       "    }\n",
       "</style>\n",
       "<table border=\"1\" class=\"dataframe\">\n",
       "  <thead>\n",
       "    <tr style=\"text-align: right;\">\n",
       "      <th></th>\n",
       "      <th>client_id</th>\n",
       "      <th>offer_id</th>\n",
       "      <th>completed</th>\n",
       "      <th>when_received</th>\n",
       "      <th>gender_x</th>\n",
       "      <th>age_x</th>\n",
       "      <th>became_member_on_x</th>\n",
       "      <th>income_x</th>\n",
       "      <th>new_id_x</th>\n",
       "      <th>reward_x</th>\n",
       "      <th>...</th>\n",
       "      <th>gender_y</th>\n",
       "      <th>age_y</th>\n",
       "      <th>became_member_on_y</th>\n",
       "      <th>income_y</th>\n",
       "      <th>new_id_y</th>\n",
       "      <th>reward_y</th>\n",
       "      <th>channels_y</th>\n",
       "      <th>difficulty_y</th>\n",
       "      <th>duration_y</th>\n",
       "      <th>offer_type_y</th>\n",
       "    </tr>\n",
       "  </thead>\n",
       "  <tbody>\n",
       "    <tr>\n",
       "      <th>0</th>\n",
       "      <td>1</td>\n",
       "      <td>9b98b8c7a33c4b65b9aebfe6a799e6d9</td>\n",
       "      <td>1</td>\n",
       "      <td>0</td>\n",
       "      <td>F</td>\n",
       "      <td>75</td>\n",
       "      <td>20170509</td>\n",
       "      <td>100000.0</td>\n",
       "      <td>1</td>\n",
       "      <td>5</td>\n",
       "      <td>...</td>\n",
       "      <td>F</td>\n",
       "      <td>75</td>\n",
       "      <td>20170509</td>\n",
       "      <td>100000.0</td>\n",
       "      <td>1</td>\n",
       "      <td>5</td>\n",
       "      <td>['web', 'email', 'mobile']</td>\n",
       "      <td>5</td>\n",
       "      <td>7</td>\n",
       "      <td>bogo</td>\n",
       "    </tr>\n",
       "    <tr>\n",
       "      <th>1</th>\n",
       "      <td>1</td>\n",
       "      <td>5a8bc65990b245e5a138643cd4eb9837</td>\n",
       "      <td>1</td>\n",
       "      <td>168</td>\n",
       "      <td>F</td>\n",
       "      <td>75</td>\n",
       "      <td>20170509</td>\n",
       "      <td>100000.0</td>\n",
       "      <td>1</td>\n",
       "      <td>0</td>\n",
       "      <td>...</td>\n",
       "      <td>F</td>\n",
       "      <td>75</td>\n",
       "      <td>20170509</td>\n",
       "      <td>100000.0</td>\n",
       "      <td>1</td>\n",
       "      <td>0</td>\n",
       "      <td>['email', 'mobile', 'social']</td>\n",
       "      <td>0</td>\n",
       "      <td>3</td>\n",
       "      <td>informational</td>\n",
       "    </tr>\n",
       "    <tr>\n",
       "      <th>2</th>\n",
       "      <td>1</td>\n",
       "      <td>ae264e3637204a6fb9bb56bc8210ddfd</td>\n",
       "      <td>1</td>\n",
       "      <td>408</td>\n",
       "      <td>F</td>\n",
       "      <td>75</td>\n",
       "      <td>20170509</td>\n",
       "      <td>100000.0</td>\n",
       "      <td>1</td>\n",
       "      <td>10</td>\n",
       "      <td>...</td>\n",
       "      <td>F</td>\n",
       "      <td>75</td>\n",
       "      <td>20170509</td>\n",
       "      <td>100000.0</td>\n",
       "      <td>1</td>\n",
       "      <td>10</td>\n",
       "      <td>['email', 'mobile', 'social']</td>\n",
       "      <td>10</td>\n",
       "      <td>7</td>\n",
       "      <td>bogo</td>\n",
       "    </tr>\n",
       "    <tr>\n",
       "      <th>3</th>\n",
       "      <td>1</td>\n",
       "      <td>f19421c1d4aa40978ebb69ca19b0e20d</td>\n",
       "      <td>0</td>\n",
       "      <td>504</td>\n",
       "      <td>F</td>\n",
       "      <td>75</td>\n",
       "      <td>20170509</td>\n",
       "      <td>100000.0</td>\n",
       "      <td>1</td>\n",
       "      <td>5</td>\n",
       "      <td>...</td>\n",
       "      <td>F</td>\n",
       "      <td>75</td>\n",
       "      <td>20170509</td>\n",
       "      <td>100000.0</td>\n",
       "      <td>1</td>\n",
       "      <td>5</td>\n",
       "      <td>['web', 'email', 'mobile', 'social']</td>\n",
       "      <td>5</td>\n",
       "      <td>5</td>\n",
       "      <td>bogo</td>\n",
       "    </tr>\n",
       "    <tr>\n",
       "      <th>4</th>\n",
       "      <td>2</td>\n",
       "      <td>0b1e1539f2cc45b7b9fa7c272da2e1d7</td>\n",
       "      <td>0</td>\n",
       "      <td>0</td>\n",
       "      <td>NaN</td>\n",
       "      <td>118</td>\n",
       "      <td>20170804</td>\n",
       "      <td>NaN</td>\n",
       "      <td>2</td>\n",
       "      <td>5</td>\n",
       "      <td>...</td>\n",
       "      <td>NaN</td>\n",
       "      <td>118</td>\n",
       "      <td>20170804</td>\n",
       "      <td>NaN</td>\n",
       "      <td>2</td>\n",
       "      <td>5</td>\n",
       "      <td>['web', 'email']</td>\n",
       "      <td>20</td>\n",
       "      <td>10</td>\n",
       "      <td>discount</td>\n",
       "    </tr>\n",
       "  </tbody>\n",
       "</table>\n",
       "<p>5 rows × 24 columns</p>\n",
       "</div>"
      ],
      "text/plain": [
       "   client_id                          offer_id  completed  when_received  \\\n",
       "0          1  9b98b8c7a33c4b65b9aebfe6a799e6d9          1              0   \n",
       "1          1  5a8bc65990b245e5a138643cd4eb9837          1            168   \n",
       "2          1  ae264e3637204a6fb9bb56bc8210ddfd          1            408   \n",
       "3          1  f19421c1d4aa40978ebb69ca19b0e20d          0            504   \n",
       "4          2  0b1e1539f2cc45b7b9fa7c272da2e1d7          0              0   \n",
       "\n",
       "  gender_x  age_x  became_member_on_x  income_x  new_id_x  reward_x  ...  \\\n",
       "0        F     75            20170509  100000.0         1         5  ...   \n",
       "1        F     75            20170509  100000.0         1         0  ...   \n",
       "2        F     75            20170509  100000.0         1        10  ...   \n",
       "3        F     75            20170509  100000.0         1         5  ...   \n",
       "4      NaN    118            20170804       NaN         2         5  ...   \n",
       "\n",
       "  gender_y  age_y  became_member_on_y  income_y new_id_y  reward_y  \\\n",
       "0        F     75            20170509  100000.0        1         5   \n",
       "1        F     75            20170509  100000.0        1         0   \n",
       "2        F     75            20170509  100000.0        1        10   \n",
       "3        F     75            20170509  100000.0        1         5   \n",
       "4      NaN    118            20170804       NaN        2         5   \n",
       "\n",
       "                             channels_y  difficulty_y  duration_y  \\\n",
       "0            ['web', 'email', 'mobile']             5           7   \n",
       "1         ['email', 'mobile', 'social']             0           3   \n",
       "2         ['email', 'mobile', 'social']            10           7   \n",
       "3  ['web', 'email', 'mobile', 'social']             5           5   \n",
       "4                      ['web', 'email']            20          10   \n",
       "\n",
       "    offer_type_y  \n",
       "0           bogo  \n",
       "1  informational  \n",
       "2           bogo  \n",
       "3           bogo  \n",
       "4       discount  \n",
       "\n",
       "[5 rows x 24 columns]"
      ]
     },
     "execution_count": 2,
     "metadata": {},
     "output_type": "execute_result"
    }
   ],
   "source": [
    "profiles = pd.read_json('raw_data/profile.json', orient='records', lines=True)\n",
    "transcript = pd.read_json('raw_data/transcript.json', orient='records', lines=True)\n",
    "offers = pd.read_csv(\"processed_data/offers_df.csv\").drop(\"Unnamed: 0\", axis = 1)\n",
    "offers.head()"
   ]
  },
  {
   "cell_type": "markdown",
   "id": "6f445f9f",
   "metadata": {},
   "source": [
    "# Pre exploration"
   ]
  },
  {
   "cell_type": "code",
   "execution_count": 3,
   "id": "9be7f4ee",
   "metadata": {},
   "outputs": [
    {
     "name": "stdout",
     "output_type": "stream",
     "text": [
      "Average nº od days:  25.46329411764706\n",
      "Mean deviation nº of days;  3.796254698650266\n"
     ]
    }
   ],
   "source": [
    "timelapse = transcript.groupby(\"person\").agg({\"time\": lambda x: (np.max(x) - np.min(x))/ 24})\n",
    "print(\"Average nº od days: \", np.mean(timelapse.time.values))\n",
    "print(\"Mean deviation nº of days; \", np.std(timelapse.time.values))"
   ]
  },
  {
   "cell_type": "markdown",
   "id": "2c39b08e",
   "metadata": {},
   "source": [
    "# Additional cleaning and feature creation"
   ]
  },
  {
   "cell_type": "code",
   "execution_count": 4,
   "id": "c686dcbc",
   "metadata": {},
   "outputs": [
    {
     "ename": "AttributeError",
     "evalue": "'DataFrame' object has no attribute 'became_member_on'",
     "output_type": "error",
     "traceback": [
      "\u001b[1;31m---------------------------------------------------------------------------\u001b[0m",
      "\u001b[1;31mAttributeError\u001b[0m                            Traceback (most recent call last)",
      "\u001b[1;32m~\\AppData\\Local\\Temp\\ipykernel_31052\\3571591497.py\u001b[0m in \u001b[0;36m<module>\u001b[1;34m\u001b[0m\n\u001b[1;32m----> 1\u001b[1;33m \u001b[0moffers\u001b[0m\u001b[1;33m[\u001b[0m\u001b[1;34m\"became_member_on\"\u001b[0m\u001b[1;33m]\u001b[0m \u001b[1;33m=\u001b[0m \u001b[0mpd\u001b[0m\u001b[1;33m.\u001b[0m\u001b[0mto_datetime\u001b[0m\u001b[1;33m(\u001b[0m\u001b[0moffers\u001b[0m\u001b[1;33m.\u001b[0m\u001b[0mbecame_member_on\u001b[0m\u001b[1;33m,\u001b[0m \u001b[0mformat\u001b[0m \u001b[1;33m=\u001b[0m \u001b[1;34m\"%Y%m%d\"\u001b[0m\u001b[1;33m)\u001b[0m\u001b[1;33m\u001b[0m\u001b[1;33m\u001b[0m\u001b[0m\n\u001b[0m",
      "\u001b[1;32m~\\anaconda3\\lib\\site-packages\\pandas\\core\\generic.py\u001b[0m in \u001b[0;36m__getattr__\u001b[1;34m(self, name)\u001b[0m\n\u001b[0;32m   5573\u001b[0m         ):\n\u001b[0;32m   5574\u001b[0m             \u001b[1;32mreturn\u001b[0m \u001b[0mself\u001b[0m\u001b[1;33m[\u001b[0m\u001b[0mname\u001b[0m\u001b[1;33m]\u001b[0m\u001b[1;33m\u001b[0m\u001b[1;33m\u001b[0m\u001b[0m\n\u001b[1;32m-> 5575\u001b[1;33m         \u001b[1;32mreturn\u001b[0m \u001b[0mobject\u001b[0m\u001b[1;33m.\u001b[0m\u001b[0m__getattribute__\u001b[0m\u001b[1;33m(\u001b[0m\u001b[0mself\u001b[0m\u001b[1;33m,\u001b[0m \u001b[0mname\u001b[0m\u001b[1;33m)\u001b[0m\u001b[1;33m\u001b[0m\u001b[1;33m\u001b[0m\u001b[0m\n\u001b[0m\u001b[0;32m   5576\u001b[0m \u001b[1;33m\u001b[0m\u001b[0m\n\u001b[0;32m   5577\u001b[0m     \u001b[1;32mdef\u001b[0m \u001b[0m__setattr__\u001b[0m\u001b[1;33m(\u001b[0m\u001b[0mself\u001b[0m\u001b[1;33m,\u001b[0m \u001b[0mname\u001b[0m\u001b[1;33m:\u001b[0m \u001b[0mstr\u001b[0m\u001b[1;33m,\u001b[0m \u001b[0mvalue\u001b[0m\u001b[1;33m)\u001b[0m \u001b[1;33m->\u001b[0m \u001b[1;32mNone\u001b[0m\u001b[1;33m:\u001b[0m\u001b[1;33m\u001b[0m\u001b[1;33m\u001b[0m\u001b[0m\n",
      "\u001b[1;31mAttributeError\u001b[0m: 'DataFrame' object has no attribute 'became_member_on'"
     ]
    }
   ],
   "source": [
    "offers[\"became_member_on\"] = pd.to_datetime(offers.became_member_on, format = \"%Y%m%d\")"
   ]
  },
  {
   "cell_type": "markdown",
   "id": "ab58da41",
   "metadata": {},
   "source": [
    "## Age"
   ]
  },
  {
   "cell_type": "markdown",
   "id": "7c175e34",
   "metadata": {},
   "source": [
    "Abnormal number of people 118 yo"
   ]
  },
  {
   "cell_type": "code",
   "execution_count": null,
   "id": "1c6497cf",
   "metadata": {},
   "outputs": [],
   "source": [
    "profiles.age.describe()"
   ]
  },
  {
   "cell_type": "code",
   "execution_count": null,
   "id": "c7382883",
   "metadata": {
    "scrolled": true
   },
   "outputs": [],
   "source": [
    "plt.subplots(figsize = (6, 3))\n",
    "profiles.age.hist()\n",
    "plt.title(\"Age distribution\")\n"
   ]
  },
  {
   "cell_type": "code",
   "execution_count": null,
   "id": "d20e2169",
   "metadata": {},
   "outputs": [],
   "source": [
    "np.mean(offers.age == 118)"
   ]
  },
  {
   "cell_type": "markdown",
   "id": "76cf6f88",
   "metadata": {},
   "source": [
    "12 % of persons are apparently 118"
   ]
  },
  {
   "cell_type": "markdown",
   "id": "5ed35307",
   "metadata": {},
   "source": [
    "## Dealing with  118 y.o."
   ]
  },
  {
   "cell_type": "markdown",
   "id": "e635a919",
   "metadata": {},
   "source": [
    "Income and Gender are null for clients with age equal to 118"
   ]
  },
  {
   "cell_type": "code",
   "execution_count": null,
   "id": "05e5ca31",
   "metadata": {
    "scrolled": true
   },
   "outputs": [],
   "source": [
    "print(\"Age 118. Prop of nulls in Gender:\", profiles.loc[profiles.age == 118].gender.isnull().mean())\n",
    "print(\"Age 118. Prop of nulls in Income:\", profiles.loc[profiles.age == 118].income.isnull().mean())"
   ]
  },
  {
   "cell_type": "code",
   "execution_count": null,
   "id": "c1dd60a6",
   "metadata": {
    "scrolled": true
   },
   "outputs": [],
   "source": [
    "profiles.loc[profiles.age == 118].head()"
   ]
  },
  {
   "cell_type": "markdown",
   "id": "9331dd46",
   "metadata": {},
   "source": [
    "Adding a fake age flag to the profiles and main dataset"
   ]
  },
  {
   "cell_type": "code",
   "execution_count": null,
   "id": "93e92cec",
   "metadata": {
    "scrolled": true
   },
   "outputs": [],
   "source": [
    "offers[\"age_error\"] = offers.age == 118\n",
    "\n",
    "offers.groupby(\"age_error\").agg({\"completed\": np.mean, \n",
    "                              \"income\": np.mean,\n",
    "                              \"became_member_on\": np.mean})\n"
   ]
  },
  {
   "cell_type": "markdown",
   "id": "26e5b725",
   "metadata": {},
   "source": [
    "Clients with fake age ave a very low average spending compared to the rest"
   ]
  },
  {
   "cell_type": "markdown",
   "id": "bdc0a2cc",
   "metadata": {},
   "source": [
    "Being income and gender null for clients of age 118, the only client feature that could potentially diverge from the rest is 'became_member_on'. We compare this feature for the two groups below"
   ]
  },
  {
   "cell_type": "code",
   "execution_count": null,
   "id": "db06c169",
   "metadata": {},
   "outputs": [],
   "source": [
    "plt.subplots(figsize = (6, 3.3))\n",
    "offers[\"month_member_on\"] = offers.became_member_on.values.astype('datetime64[M]')\n",
    "\n",
    "pr = pd.DataFrame(offers.groupby([\"month_member_on\", \"age_error\"]).count()[\"client_id\"]).reset_index()\n",
    "\n",
    "pr[\"f\"] = pr.groupby(\"age_error\").client_id.apply(lambda x: x / sum(x))\n",
    "pr\n",
    "\n",
    "\n",
    "# pr\n",
    "sns.lineplot(data = pr, x = \"month_member_on\", y = \"f\", hue = \"age_error\")\n",
    "plt.title(\"Client antiquity in time for aged 118 and the rest\")"
   ]
  },
  {
   "cell_type": "markdown",
   "id": "7d162a5d",
   "metadata": {},
   "source": [
    "Since the only feature that is not null for persons aged 118 doesn't difere from the rest, **we proceed to remove these persons**\n",
    "\n",
    "We also observe a strange behaviour related with when a person became member: it remains constant for the most part but there are two big increases around mid 2015 and mid 2017"
   ]
  },
  {
   "cell_type": "code",
   "execution_count": null,
   "id": "59fecbf1",
   "metadata": {},
   "outputs": [],
   "source": [
    "# removing persons aged 118\n",
    "\n",
    "# data = data.loc[data.age != 118]\n",
    "offers = offers.loc[offers.age != 118]"
   ]
  },
  {
   "cell_type": "markdown",
   "id": "3c8e8b75",
   "metadata": {},
   "source": [
    "## income"
   ]
  },
  {
   "cell_type": "code",
   "execution_count": null,
   "id": "0ee9192c",
   "metadata": {
    "scrolled": true
   },
   "outputs": [],
   "source": [
    "plt.clf()\n",
    "fig, ax = plt.subplots(figsize = (6, 3))\n",
    "income_df = offers.groupby(\"client_id\").agg({\"income\": \"mean\"})\n",
    "sns.histplot(data = income_df, x = \"income\", ax = ax)\n",
    "plt.title(\"Income distribution\")"
   ]
  },
  {
   "cell_type": "markdown",
   "id": "bfd89d99",
   "metadata": {},
   "source": [
    "## Additional features"
   ]
  },
  {
   "cell_type": "markdown",
   "id": "eef74404",
   "metadata": {},
   "source": [
    "Among the additional features creates, **seniority** divides the period de person became member in three categories, following the findings in the \"Dealing with 118 y.o section"
   ]
  },
  {
   "cell_type": "code",
   "execution_count": null,
   "id": "613ca3e4",
   "metadata": {},
   "outputs": [],
   "source": [
    "offers[\"income_thousands\"] = offers.income / 1000\n",
    "\n",
    "# creation of seniority variable, which divides the period the person became member, by categor\n",
    "offers['seniority'] =  np.where(offers.month_member_on < \"2015-08-01\", \"Gen1\", \n",
    "                                      np.where(offers.month_member_on < \"2017-08-01\", \"Gen2\", \n",
    "                                               \"Gen3\"))\n",
    "\n",
    "\n",
    "seniority_order = ['Gen 1', 'Gen 2', 'Gen 3']\n",
    "offers = offers.reindex(offers['seniority'].isin(seniority_order).index, level=0)\n",
    "offers = offers.sort_values(by='seniority')\n",
    "\n",
    "profiles['became_member_on']  = pd.to_datetime(profiles.became_member_on, format = \"%Y%m%d\")\n",
    "profiles[\"month_member_on\"] = profiles.became_member_on.values.astype('datetime64[M]')\n",
    "\n",
    "profiles['seniority'] =  np.where(profiles.month_member_on < \"2015-08-01\", \"Gen1\", \n",
    "                                      np.where(profiles.month_member_on < \"2017-08-01\", \"Gen2\", \n",
    "                                               \"Gen3\"))\n"
   ]
  },
  {
   "cell_type": "code",
   "execution_count": null,
   "id": "70be3211",
   "metadata": {
    "scrolled": false
   },
   "outputs": [],
   "source": [
    "profiles.became_member_on.describe()"
   ]
  },
  {
   "cell_type": "code",
   "execution_count": null,
   "id": "0a845087",
   "metadata": {},
   "outputs": [],
   "source": [
    "def summarize_completed(group_vars):\n",
    "    \n",
    "    return offers.groupby(group_vars).agg({\"completed\": \"mean\"}).reset_index()"
   ]
  },
  {
   "cell_type": "markdown",
   "id": "b6a9dbca",
   "metadata": {},
   "source": [
    "# Completion by type"
   ]
  },
  {
   "cell_type": "code",
   "execution_count": null,
   "id": "a16281d7",
   "metadata": {
    "scrolled": false
   },
   "outputs": [],
   "source": [
    "offers.groupby(\"offer_type\").agg({\"completed\": \"mean\"})"
   ]
  },
  {
   "cell_type": "code",
   "execution_count": null,
   "id": "6f35ef9e",
   "metadata": {},
   "outputs": [],
   "source": [
    "offers_income = offers.groupby([\"offer_type\", \"income_thousands\"]).agg({\"completed\": \"mean\"}).reset_index()"
   ]
  },
  {
   "cell_type": "code",
   "execution_count": null,
   "id": "33936da5",
   "metadata": {
    "scrolled": true
   },
   "outputs": [],
   "source": [
    "offers_income"
   ]
  },
  {
   "cell_type": "code",
   "execution_count": null,
   "id": "eb5df10d",
   "metadata": {
    "scrolled": true
   },
   "outputs": [],
   "source": [
    "#  fig, ax = plt.subplots()\n",
    "\n",
    "\n",
    "\n",
    "sns.relplot(data = offers_income, \n",
    "            x = \"income_thousands\", \n",
    "            y = \"completed\", \n",
    "            hue = \"offer_type\", \n",
    "            kind = \"line\",\n",
    "            aspect = 1.5,\n",
    "            height = 4\n",
    "           )\n",
    "\n",
    "plt.title(\"Proportion of offers completed by income\")"
   ]
  },
  {
   "cell_type": "code",
   "execution_count": null,
   "id": "322c817c",
   "metadata": {},
   "outputs": [],
   "source": [
    "(profiles.income > 90000).mean()"
   ]
  },
  {
   "cell_type": "code",
   "execution_count": null,
   "id": "9c1a652b",
   "metadata": {
    "scrolled": true
   },
   "outputs": [],
   "source": [
    "offers.groupby([\"completed\", \"offer_type\"]).agg({\"income_thousands\": \"mean\"})"
   ]
  },
  {
   "cell_type": "markdown",
   "id": "045eb08d",
   "metadata": {},
   "source": [
    "# Seniority"
   ]
  },
  {
   "cell_type": "code",
   "execution_count": null,
   "id": "427a1cca",
   "metadata": {},
   "outputs": [],
   "source": [
    "offers.seniority.value_counts()"
   ]
  },
  {
   "cell_type": "code",
   "execution_count": null,
   "id": "35053fd0",
   "metadata": {
    "scrolled": true
   },
   "outputs": [],
   "source": [
    "offers.groupby(\"seniority\").agg({\"completed\": \"mean\", \n",
    "                                            \"income\": \"mean\", \n",
    "                                            \"gender\": lambda x: np.mean(x == \"M\"),\n",
    "                                            \"age\": \"mean\", \n",
    "                                           \"duration\": \"mean\", \n",
    "                                           \"difficulty\": \"mean\"})"
   ]
  },
  {
   "cell_type": "markdown",
   "id": "6fc2fff1",
   "metadata": {},
   "source": [
    "Turns out that Gen 1 customers are the older ones. It seems they have less population aged between 20 and 40. It turns out that this age range is formed by people who completed less discount and bogo offers"
   ]
  },
  {
   "cell_type": "code",
   "execution_count": null,
   "id": "5fd1de39",
   "metadata": {},
   "outputs": [],
   "source": [
    "sns.displot(data = offers, \n",
    "           x = \"age\", \n",
    "           row = \"seniority\", \n",
    "           height = 1.5, \n",
    "           aspect = 3, \n",
    "           facet_kws=dict(sharey=False))"
   ]
  },
  {
   "cell_type": "code",
   "execution_count": null,
   "id": "3dff2da4",
   "metadata": {
    "scrolled": true
   },
   "outputs": [],
   "source": [
    "profiles_age_period = profiles.loc[profiles.age  != 118].value_counts([\"age\", \"seniority\"]).reset_index()\\\n",
    ".rename(columns = {0: \"n\"})\n",
    "profiles_age_period[\"f\"] = profiles_age_period.groupby(\"age\").n.apply(lambda x: x / sum(x))\n",
    "sns.relplot(data = profiles_age_period, \n",
    "           x = \"age\", \n",
    "           y = \"f\", \n",
    "           hue = \"seniority\", \n",
    "           height = 4, \n",
    "           aspect = 1.5, \n",
    "           kind = \"line\")"
   ]
  },
  {
   "cell_type": "code",
   "execution_count": null,
   "id": "82171d61",
   "metadata": {},
   "outputs": [],
   "source": [
    "offers.groupby([\"seniority\", \"offer_type\"])\\\n",
    ".agg({\"completed\": \"mean\"}).reset_index().pivot(columns = \"seniority\", \n",
    "                                                index = \"offer_type\", \n",
    "                                               values = \"completed\")"
   ]
  },
  {
   "cell_type": "code",
   "execution_count": null,
   "id": "ca490d3d",
   "metadata": {
    "scrolled": false
   },
   "outputs": [],
   "source": [
    "offers_period_completed = offers.groupby([\"seniority\", \"offer_type\"])\\\n",
    ".agg({\"completed\": \"mean\"}).reset_index()\n",
    "\n",
    "offers_period_completed\n",
    "\n",
    "sns.catplot(data = offers_period_completed, \n",
    "           x = \"seniority\", \n",
    "           y = \"completed\", \n",
    "           hue = \"offer_type\",\n",
    "           kind = \"bar\", \n",
    "           height = 3, \n",
    "           aspect = 1.8)"
   ]
  },
  {
   "cell_type": "markdown",
   "id": "2c16c73f",
   "metadata": {},
   "source": [
    "# Gender"
   ]
  },
  {
   "cell_type": "markdown",
   "id": "8108181d",
   "metadata": {},
   "source": [
    "It looks like women and other genders respond better to offers than men"
   ]
  },
  {
   "cell_type": "code",
   "execution_count": null,
   "id": "30fa6dad",
   "metadata": {
    "scrolled": false
   },
   "outputs": [],
   "source": [
    "offers.groupby([\"gender\", \"offer_type\"]).agg({\"completed\": \"mean\", \"new_id\": \"count\"})"
   ]
  },
  {
   "cell_type": "code",
   "execution_count": null,
   "id": "adb724c4",
   "metadata": {
    "scrolled": true
   },
   "outputs": [],
   "source": [
    "offers.groupby([\"gender\", \"offer_type\", \"seniority\"]).agg({\"completed\": \"mean\"}).reset_index()\\\n",
    ".pivot(index = [\"offer_type\", \"gender\"], \n",
    "       columns = \"seniority\", \n",
    "      values = \"completed\")"
   ]
  },
  {
   "cell_type": "markdown",
   "id": "0716c0be",
   "metadata": {},
   "source": [
    "# Age"
   ]
  },
  {
   "cell_type": "markdown",
   "id": "724d5782",
   "metadata": {},
   "source": [
    "It looks like young people older than (35 - 40) respond better to offers"
   ]
  },
  {
   "cell_type": "code",
   "execution_count": null,
   "id": "24d347be",
   "metadata": {
    "scrolled": false
   },
   "outputs": [],
   "source": [
    "completed_age = summarize_completed([\"offer_type\", \"age\"])\n",
    "\n",
    "sns.relplot(data = completed_age.loc[completed_age.age <= 80], \n",
    "           x = \"age\", \n",
    "           y = \"completed\", \n",
    "           hue = \"offer_type\", \n",
    "           kind = \"line\", \n",
    "           height = 4, \n",
    "           aspect = 1.5)\n",
    "\n",
    "plt.title(\"Rate of completion by age\")"
   ]
  },
  {
   "cell_type": "code",
   "execution_count": null,
   "id": "2f753112",
   "metadata": {},
   "outputs": [],
   "source": [
    "offers[\"age_int\"] = pd.cut(offers.age, bins = [20, 40, 60, 80, 100])"
   ]
  },
  {
   "cell_type": "code",
   "execution_count": null,
   "id": "f1e4db99",
   "metadata": {},
   "outputs": [],
   "source": [
    "summarize_completed(\"age_int\")"
   ]
  },
  {
   "cell_type": "code",
   "execution_count": null,
   "id": "3da515b3",
   "metadata": {},
   "outputs": [],
   "source": [
    "summarize_completed([\"offer_type\", \"age_int\"])"
   ]
  },
  {
   "cell_type": "markdown",
   "id": "8591801b",
   "metadata": {},
   "source": [
    "# Duration"
   ]
  },
  {
   "cell_type": "markdown",
   "id": "9fc2727a",
   "metadata": {},
   "source": [
    "Hay que mirar si esta aparente contradiccion se compensa con el reward o el difficulty"
   ]
  },
  {
   "cell_type": "code",
   "execution_count": null,
   "id": "aa45ff3a",
   "metadata": {
    "scrolled": true
   },
   "outputs": [],
   "source": [
    "summarize_completed([\"offer_type\", \"duration\"])"
   ]
  },
  {
   "cell_type": "code",
   "execution_count": null,
   "id": "5ebde197",
   "metadata": {
    "scrolled": true
   },
   "outputs": [],
   "source": [
    "offers.groupby([\"offer_type\", \"duration\"]).agg({\"completed\": \"mean\", \n",
    "                                                \"difficulty\": \"mean\", \n",
    "                                                \"reward\": \"mean\"})"
   ]
  },
  {
   "cell_type": "markdown",
   "id": "61652c28",
   "metadata": {},
   "source": [
    "# Difficulty"
   ]
  },
  {
   "cell_type": "code",
   "execution_count": null,
   "id": "21f45bc1",
   "metadata": {},
   "outputs": [],
   "source": [
    "summarize_completed([\"offer_type\", \"difficulty\"])"
   ]
  },
  {
   "cell_type": "markdown",
   "id": "c8a6dd37",
   "metadata": {},
   "source": [
    "# Reward"
   ]
  },
  {
   "cell_type": "code",
   "execution_count": null,
   "id": "f2707e21",
   "metadata": {
    "scrolled": true
   },
   "outputs": [],
   "source": [
    "summarize_completed([\"offer_type\", \"reward\"])"
   ]
  },
  {
   "cell_type": "markdown",
   "id": "9b784d47",
   "metadata": {},
   "source": [
    "It looks like duration have the opposite effect than expected. Difficulty and reward behaving as expected. It seems like for bogo, both of these magnitudes are totally correlated. DIfficulty has a big effect on discount"
   ]
  },
  {
   "cell_type": "code",
   "execution_count": null,
   "id": "6a68448b",
   "metadata": {},
   "outputs": [],
   "source": [
    "offers.value_counts(subset = [\"offer_type\", \"difficulty\", \"reward\"])"
   ]
  },
  {
   "cell_type": "markdown",
   "id": "72f99148",
   "metadata": {},
   "source": [
    "# Income"
   ]
  },
  {
   "cell_type": "code",
   "execution_count": null,
   "id": "6f94bd7e",
   "metadata": {
    "scrolled": true
   },
   "outputs": [],
   "source": [
    "offers.groupby(\"completed\").agg({\"income_thousands\": [\"mean\",\"std\"]})"
   ]
  },
  {
   "cell_type": "code",
   "execution_count": null,
   "id": "e7676b2b",
   "metadata": {
    "scrolled": true
   },
   "outputs": [],
   "source": [
    "sns.displot(data = offers, \n",
    "           x = \"income_thousands\", \n",
    "           hue = \"completed\", \n",
    "           height = 3, \n",
    "            kind = \"kde\",\n",
    "           aspect = 3)"
   ]
  },
  {
   "cell_type": "code",
   "execution_count": null,
   "id": "ab8a23b7",
   "metadata": {},
   "outputs": [],
   "source": [
    "completed_income = summarize_completed([\"offer_type\", \"income_thousands\"])\n",
    "\n",
    "sns.relplot(data = completed_income, \n",
    "           x = \"income_thousands\", \n",
    "           y = \"completed\", \n",
    "           hue = \"offer_type\", \n",
    "           kind = \"line\", \n",
    "           height = 4, \n",
    "           aspect = 1.5)\n",
    "\n",
    "plt.title(\"Rate of completion by income\")"
   ]
  },
  {
   "cell_type": "markdown",
   "id": "187f9b03",
   "metadata": {},
   "source": [
    "# Channels"
   ]
  },
  {
   "cell_type": "code",
   "execution_count": null,
   "id": "05a55df7",
   "metadata": {},
   "outputs": [],
   "source": [
    "offers.channels.value_counts()"
   ]
  },
  {
   "cell_type": "code",
   "execution_count": null,
   "id": "24672ec6",
   "metadata": {},
   "outputs": [],
   "source": [
    "summarize_completed([\"channels\"])"
   ]
  },
  {
   "cell_type": "code",
   "execution_count": null,
   "id": "000d1b1c",
   "metadata": {},
   "outputs": [],
   "source": [
    "def is_channel(li, channel):\n",
    "    \n",
    "    return (channel in li) * 1\n",
    "\n",
    "# email is in every offer, we don't have to count for it\n",
    "for channel in [\"web\", \"mobile\", \"social\"]:\n",
    "    \n",
    "    offers[channel] = offers.channels.apply(lambda x: is_channel(x, channel))\n"
   ]
  },
  {
   "cell_type": "code",
   "execution_count": null,
   "id": "e0f768b2",
   "metadata": {},
   "outputs": [],
   "source": [
    "# \n",
    "offers.loc[offers.completed == 1].groupby(\"social\").agg({\"age\": \"mean\", \"gender\": lambda x: np.mean(x == \"M\"), \n",
    "                                                      \"income_thousands\": \"mean\"})"
   ]
  },
  {
   "cell_type": "code",
   "execution_count": null,
   "id": "41459450",
   "metadata": {},
   "outputs": [],
   "source": [
    "offers[[\"web\", \"mobile\", \"social\"]].mean()"
   ]
  },
  {
   "cell_type": "code",
   "execution_count": null,
   "id": "0dc69fa6",
   "metadata": {
    "scrolled": true
   },
   "outputs": [],
   "source": [
    "offers_by_channel = offers.value_counts(subset = [\"offer_type\", \"channels\"]).reset_index()\n",
    "sns.catplot(data = offers_by_channel, \n",
    "           x = \"channels\", \n",
    "           y = 0, \n",
    "           hue = \"offer_type\", \n",
    "           kind = \"bar\", \n",
    "           height = 3, \n",
    "           aspect = 3)"
   ]
  },
  {
   "cell_type": "code",
   "execution_count": null,
   "id": "07b4dd1f",
   "metadata": {},
   "outputs": [],
   "source": [
    "offers.groupby(\"social\").agg({\"completed\": \"mean\"})"
   ]
  },
  {
   "cell_type": "code",
   "execution_count": null,
   "id": "8edf93ac",
   "metadata": {},
   "outputs": [],
   "source": [
    "offers.groupby([\"offer_type\", \"social\"]).agg({\"completed\": \"mean\"})"
   ]
  },
  {
   "cell_type": "code",
   "execution_count": null,
   "id": "aa330302",
   "metadata": {},
   "outputs": [],
   "source": [
    "summarize_completed([\"channels\", \"offer_type\"])"
   ]
  },
  {
   "cell_type": "markdown",
   "id": "536f6aee",
   "metadata": {},
   "source": [
    "Since a offer is completed whenever it is viewed and there are enough amount spent, we should control by income when modeling"
   ]
  },
  {
   "cell_type": "markdown",
   "id": "87693d49",
   "metadata": {},
   "source": [
    "# Conclusions"
   ]
  },
  {
   "cell_type": "markdown",
   "id": "d4f40b5f",
   "metadata": {},
   "source": [
    "- All offers are completed a similar rate (between 40 % and 45 %), being Informational, the offer type with the hightest rate of completion and bogo the type with the lowest rate\n",
    "- The rate of completion for bogo and discount seems to increase with income, atleast up to the $ 90 K, that's it, almost the 90 % of the population.\n",
    "- Gen 2 is the generation with the hightest rate of completion, specially for BOGO offers\n",
    "- Female complete bogo and discount offers at a higher rate than males. People who identifies with other gender have the highest completion rate for every offer type.\n",
    "- Young people seem to complete offers at a lower rate that older ones. There seem to be a a stepped increase at the age of 35.\n",
    "- Offers distributed through social channels have a significative higher rate of completion than the ones which are not, specially for the discount offer."
   ]
  },
  {
   "cell_type": "markdown",
   "id": "a506352c",
   "metadata": {},
   "source": [
    "# More variables for modeling and viz."
   ]
  },
  {
   "cell_type": "code",
   "execution_count": null,
   "id": "f84a27fa",
   "metadata": {},
   "outputs": [],
   "source": [
    "offers[\"young\"] = offers.age < 35\n",
    "offers[\"social\"] = offers.channels.apply(lambda x: \"social\" in x)\n",
    "\n",
    "offers = offers.replace({\"offer_type\": {\"informational\": \"Informational\", \"bogo\": \"Bogo\", \"discount\": \"Discount\"}})\n",
    "offers = offers.replace({\"gender\": {\"M\": \"Male\", \"F\": \"Female\", \"O\": \"Other\"}})\n"
   ]
  },
  {
   "cell_type": "markdown",
   "id": "f00a813c",
   "metadata": {},
   "source": [
    "# Saving data"
   ]
  },
  {
   "cell_type": "code",
   "execution_count": null,
   "id": "8f84571b",
   "metadata": {},
   "outputs": [],
   "source": [
    "pickle.dump(offers, open(\"processed_data/offers_cleaned.p\", \"wb\"))"
   ]
  }
 ],
 "metadata": {
  "kernelspec": {
   "display_name": "Python 3 (ipykernel)",
   "language": "python",
   "name": "python3"
  },
  "language_info": {
   "codemirror_mode": {
    "name": "ipython",
    "version": 3
   },
   "file_extension": ".py",
   "mimetype": "text/x-python",
   "name": "python",
   "nbconvert_exporter": "python",
   "pygments_lexer": "ipython3",
   "version": "3.9.13"
  },
  "toc": {
   "base_numbering": 1,
   "nav_menu": {},
   "number_sections": true,
   "sideBar": true,
   "skip_h1_title": false,
   "title_cell": "Table of Contents",
   "title_sidebar": "Contents",
   "toc_cell": false,
   "toc_position": {
    "height": "calc(100% - 180px)",
    "left": "10px",
    "top": "150px",
    "width": "573.958px"
   },
   "toc_section_display": true,
   "toc_window_display": true
  },
  "varInspector": {
   "cols": {
    "lenName": 16,
    "lenType": 16,
    "lenVar": 40
   },
   "kernels_config": {
    "python": {
     "delete_cmd_postfix": "",
     "delete_cmd_prefix": "del ",
     "library": "var_list.py",
     "varRefreshCmd": "print(var_dic_list())"
    },
    "r": {
     "delete_cmd_postfix": ") ",
     "delete_cmd_prefix": "rm(",
     "library": "var_list.r",
     "varRefreshCmd": "cat(var_dic_list()) "
    }
   },
   "oldHeight": 122.844,
   "position": {
    "height": "306.844px",
    "left": "1217px",
    "right": "20px",
    "top": "230px",
    "width": "350px"
   },
   "types_to_exclude": [
    "module",
    "function",
    "builtin_function_or_method",
    "instance",
    "_Feature"
   ],
   "varInspector_section_display": "block",
   "window_display": false
  }
 },
 "nbformat": 4,
 "nbformat_minor": 5
}
